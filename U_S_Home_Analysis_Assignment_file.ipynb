{
  "nbformat": 4,
  "nbformat_minor": 0,
  "metadata": {
    "colab": {
      "provenance": []
    },
    "kernelspec": {
      "name": "python3",
      "display_name": "Python 3"
    },
    "language_info": {
      "name": "python"
    }
  },
  "cells": [
    {
      "cell_type": "markdown",
      "source": [
        "**Data Science Project: Analyzing Key Factors Influencing US Home Prices**\n",
        "\n",
        "---"
      ],
      "metadata": {
        "id": "umgdW_m_oiw-"
      }
    },
    {
      "cell_type": "markdown",
      "source": [
        "***Introduction***\n",
        "\n",
        "> The data for this analysis was collected from various publicly available sources, focusing on key factors believed to influence home prices in the United States. Using techniques such as VLOOKUP and HLOOKUP in Excel, the collected data was merged to create a comprehensive dataset. This dataset is now imported into this Colab notebook for further analysis and exploration.\n",
        "\n"
      ],
      "metadata": {
        "id": "qiOhDuVLpZdh"
      }
    },
    {
      "cell_type": "markdown",
      "source": [
        "***Objective***\n",
        "\n",
        "\n",
        "> The primary objective of this data science project is to build a predictive model that explains how different factors have impacted home prices in the United States over the last two decades (20 years). The analysis will revolve around understanding the relationship between various economic, demographic, and housing market indicators and the fluctuations in home prices.\n",
        "\n"
      ],
      "metadata": {
        "id": "ql54f9pDpqE4"
      }
    },
    {
      "cell_type": "code",
      "execution_count": 2,
      "metadata": {
        "id": "OSabd5IpELlN"
      },
      "outputs": [],
      "source": [
        "import pandas as pd\n",
        "import numpy as np\n",
        "import seaborn as sns\n",
        "import matplotlib.pyplot as plt\n",
        "%matplotlib inline\n",
        "from sklearn.metrics import r2_score, mean_squared_error, mean_absolute_error"
      ]
    },
    {
      "cell_type": "code",
      "source": [
        "df = pd.read_csv(\"/content/Assignment_1.csv\")"
      ],
      "metadata": {
        "id": "bnwogkUAEYRD"
      },
      "execution_count": 3,
      "outputs": []
    },
    {
      "cell_type": "code",
      "source": [
        "df.head(1)"
      ],
      "metadata": {
        "colab": {
          "base_uri": "https://localhost:8080/",
          "height": 81
        },
        "id": "p3Zy22h4EnYq",
        "outputId": "c466559d-2312-42fc-9470-4480476fe481"
      },
      "execution_count": 4,
      "outputs": [
        {
          "output_type": "execute_result",
          "data": {
            "text/plain": [
              "         date  new_constructed_units  unemployment_rate  interest_rates  \\\n",
              "0  01-01-1947                    NaN                NaN             NaN   \n",
              "\n",
              "   income  home_price_index  per_capita_gdp  urban_population  \n",
              "0     NaN               NaN           15248               NaN  "
            ],
            "text/html": [
              "\n",
              "  <div id=\"df-61ae58ab-c57c-4a44-ab0c-9aa7d640b41d\" class=\"colab-df-container\">\n",
              "    <div>\n",
              "<style scoped>\n",
              "    .dataframe tbody tr th:only-of-type {\n",
              "        vertical-align: middle;\n",
              "    }\n",
              "\n",
              "    .dataframe tbody tr th {\n",
              "        vertical-align: top;\n",
              "    }\n",
              "\n",
              "    .dataframe thead th {\n",
              "        text-align: right;\n",
              "    }\n",
              "</style>\n",
              "<table border=\"1\" class=\"dataframe\">\n",
              "  <thead>\n",
              "    <tr style=\"text-align: right;\">\n",
              "      <th></th>\n",
              "      <th>date</th>\n",
              "      <th>new_constructed_units</th>\n",
              "      <th>unemployment_rate</th>\n",
              "      <th>interest_rates</th>\n",
              "      <th>income</th>\n",
              "      <th>home_price_index</th>\n",
              "      <th>per_capita_gdp</th>\n",
              "      <th>urban_population</th>\n",
              "    </tr>\n",
              "  </thead>\n",
              "  <tbody>\n",
              "    <tr>\n",
              "      <th>0</th>\n",
              "      <td>01-01-1947</td>\n",
              "      <td>NaN</td>\n",
              "      <td>NaN</td>\n",
              "      <td>NaN</td>\n",
              "      <td>NaN</td>\n",
              "      <td>NaN</td>\n",
              "      <td>15248</td>\n",
              "      <td>NaN</td>\n",
              "    </tr>\n",
              "  </tbody>\n",
              "</table>\n",
              "</div>\n",
              "    <div class=\"colab-df-buttons\">\n",
              "\n",
              "  <div class=\"colab-df-container\">\n",
              "    <button class=\"colab-df-convert\" onclick=\"convertToInteractive('df-61ae58ab-c57c-4a44-ab0c-9aa7d640b41d')\"\n",
              "            title=\"Convert this dataframe to an interactive table.\"\n",
              "            style=\"display:none;\">\n",
              "\n",
              "  <svg xmlns=\"http://www.w3.org/2000/svg\" height=\"24px\" viewBox=\"0 -960 960 960\">\n",
              "    <path d=\"M120-120v-720h720v720H120Zm60-500h600v-160H180v160Zm220 220h160v-160H400v160Zm0 220h160v-160H400v160ZM180-400h160v-160H180v160Zm440 0h160v-160H620v160ZM180-180h160v-160H180v160Zm440 0h160v-160H620v160Z\"/>\n",
              "  </svg>\n",
              "    </button>\n",
              "\n",
              "  <style>\n",
              "    .colab-df-container {\n",
              "      display:flex;\n",
              "      gap: 12px;\n",
              "    }\n",
              "\n",
              "    .colab-df-convert {\n",
              "      background-color: #E8F0FE;\n",
              "      border: none;\n",
              "      border-radius: 50%;\n",
              "      cursor: pointer;\n",
              "      display: none;\n",
              "      fill: #1967D2;\n",
              "      height: 32px;\n",
              "      padding: 0 0 0 0;\n",
              "      width: 32px;\n",
              "    }\n",
              "\n",
              "    .colab-df-convert:hover {\n",
              "      background-color: #E2EBFA;\n",
              "      box-shadow: 0px 1px 2px rgba(60, 64, 67, 0.3), 0px 1px 3px 1px rgba(60, 64, 67, 0.15);\n",
              "      fill: #174EA6;\n",
              "    }\n",
              "\n",
              "    .colab-df-buttons div {\n",
              "      margin-bottom: 4px;\n",
              "    }\n",
              "\n",
              "    [theme=dark] .colab-df-convert {\n",
              "      background-color: #3B4455;\n",
              "      fill: #D2E3FC;\n",
              "    }\n",
              "\n",
              "    [theme=dark] .colab-df-convert:hover {\n",
              "      background-color: #434B5C;\n",
              "      box-shadow: 0px 1px 3px 1px rgba(0, 0, 0, 0.15);\n",
              "      filter: drop-shadow(0px 1px 2px rgba(0, 0, 0, 0.3));\n",
              "      fill: #FFFFFF;\n",
              "    }\n",
              "  </style>\n",
              "\n",
              "    <script>\n",
              "      const buttonEl =\n",
              "        document.querySelector('#df-61ae58ab-c57c-4a44-ab0c-9aa7d640b41d button.colab-df-convert');\n",
              "      buttonEl.style.display =\n",
              "        google.colab.kernel.accessAllowed ? 'block' : 'none';\n",
              "\n",
              "      async function convertToInteractive(key) {\n",
              "        const element = document.querySelector('#df-61ae58ab-c57c-4a44-ab0c-9aa7d640b41d');\n",
              "        const dataTable =\n",
              "          await google.colab.kernel.invokeFunction('convertToInteractive',\n",
              "                                                    [key], {});\n",
              "        if (!dataTable) return;\n",
              "\n",
              "        const docLinkHtml = 'Like what you see? Visit the ' +\n",
              "          '<a target=\"_blank\" href=https://colab.research.google.com/notebooks/data_table.ipynb>data table notebook</a>'\n",
              "          + ' to learn more about interactive tables.';\n",
              "        element.innerHTML = '';\n",
              "        dataTable['output_type'] = 'display_data';\n",
              "        await google.colab.output.renderOutput(dataTable, element);\n",
              "        const docLink = document.createElement('div');\n",
              "        docLink.innerHTML = docLinkHtml;\n",
              "        element.appendChild(docLink);\n",
              "      }\n",
              "    </script>\n",
              "  </div>\n",
              "\n",
              "    </div>\n",
              "  </div>\n"
            ]
          },
          "metadata": {},
          "execution_count": 4
        }
      ]
    },
    {
      "cell_type": "code",
      "source": [
        "df.tail(1)"
      ],
      "metadata": {
        "id": "vYt315mabDg0",
        "colab": {
          "base_uri": "https://localhost:8080/",
          "height": 81
        },
        "outputId": "46fcbb6e-4751-4da6-b790-3fe7f3b3b8e6"
      },
      "execution_count": 5,
      "outputs": [
        {
          "output_type": "execute_result",
          "data": {
            "text/plain": [
              "           date  new_constructed_units  unemployment_rate  interest_rates  \\\n",
              "921  01-10-2023                 1410.0                3.9            5.33   \n",
              "\n",
              "      income  home_price_index  per_capita_gdp  urban_population  \n",
              "921  16848.7           311.175           67083            83.084  "
            ],
            "text/html": [
              "\n",
              "  <div id=\"df-8bd0c406-9613-43df-a050-03f3ce825bb2\" class=\"colab-df-container\">\n",
              "    <div>\n",
              "<style scoped>\n",
              "    .dataframe tbody tr th:only-of-type {\n",
              "        vertical-align: middle;\n",
              "    }\n",
              "\n",
              "    .dataframe tbody tr th {\n",
              "        vertical-align: top;\n",
              "    }\n",
              "\n",
              "    .dataframe thead th {\n",
              "        text-align: right;\n",
              "    }\n",
              "</style>\n",
              "<table border=\"1\" class=\"dataframe\">\n",
              "  <thead>\n",
              "    <tr style=\"text-align: right;\">\n",
              "      <th></th>\n",
              "      <th>date</th>\n",
              "      <th>new_constructed_units</th>\n",
              "      <th>unemployment_rate</th>\n",
              "      <th>interest_rates</th>\n",
              "      <th>income</th>\n",
              "      <th>home_price_index</th>\n",
              "      <th>per_capita_gdp</th>\n",
              "      <th>urban_population</th>\n",
              "    </tr>\n",
              "  </thead>\n",
              "  <tbody>\n",
              "    <tr>\n",
              "      <th>921</th>\n",
              "      <td>01-10-2023</td>\n",
              "      <td>1410.0</td>\n",
              "      <td>3.9</td>\n",
              "      <td>5.33</td>\n",
              "      <td>16848.7</td>\n",
              "      <td>311.175</td>\n",
              "      <td>67083</td>\n",
              "      <td>83.084</td>\n",
              "    </tr>\n",
              "  </tbody>\n",
              "</table>\n",
              "</div>\n",
              "    <div class=\"colab-df-buttons\">\n",
              "\n",
              "  <div class=\"colab-df-container\">\n",
              "    <button class=\"colab-df-convert\" onclick=\"convertToInteractive('df-8bd0c406-9613-43df-a050-03f3ce825bb2')\"\n",
              "            title=\"Convert this dataframe to an interactive table.\"\n",
              "            style=\"display:none;\">\n",
              "\n",
              "  <svg xmlns=\"http://www.w3.org/2000/svg\" height=\"24px\" viewBox=\"0 -960 960 960\">\n",
              "    <path d=\"M120-120v-720h720v720H120Zm60-500h600v-160H180v160Zm220 220h160v-160H400v160Zm0 220h160v-160H400v160ZM180-400h160v-160H180v160Zm440 0h160v-160H620v160ZM180-180h160v-160H180v160Zm440 0h160v-160H620v160Z\"/>\n",
              "  </svg>\n",
              "    </button>\n",
              "\n",
              "  <style>\n",
              "    .colab-df-container {\n",
              "      display:flex;\n",
              "      gap: 12px;\n",
              "    }\n",
              "\n",
              "    .colab-df-convert {\n",
              "      background-color: #E8F0FE;\n",
              "      border: none;\n",
              "      border-radius: 50%;\n",
              "      cursor: pointer;\n",
              "      display: none;\n",
              "      fill: #1967D2;\n",
              "      height: 32px;\n",
              "      padding: 0 0 0 0;\n",
              "      width: 32px;\n",
              "    }\n",
              "\n",
              "    .colab-df-convert:hover {\n",
              "      background-color: #E2EBFA;\n",
              "      box-shadow: 0px 1px 2px rgba(60, 64, 67, 0.3), 0px 1px 3px 1px rgba(60, 64, 67, 0.15);\n",
              "      fill: #174EA6;\n",
              "    }\n",
              "\n",
              "    .colab-df-buttons div {\n",
              "      margin-bottom: 4px;\n",
              "    }\n",
              "\n",
              "    [theme=dark] .colab-df-convert {\n",
              "      background-color: #3B4455;\n",
              "      fill: #D2E3FC;\n",
              "    }\n",
              "\n",
              "    [theme=dark] .colab-df-convert:hover {\n",
              "      background-color: #434B5C;\n",
              "      box-shadow: 0px 1px 3px 1px rgba(0, 0, 0, 0.15);\n",
              "      filter: drop-shadow(0px 1px 2px rgba(0, 0, 0, 0.3));\n",
              "      fill: #FFFFFF;\n",
              "    }\n",
              "  </style>\n",
              "\n",
              "    <script>\n",
              "      const buttonEl =\n",
              "        document.querySelector('#df-8bd0c406-9613-43df-a050-03f3ce825bb2 button.colab-df-convert');\n",
              "      buttonEl.style.display =\n",
              "        google.colab.kernel.accessAllowed ? 'block' : 'none';\n",
              "\n",
              "      async function convertToInteractive(key) {\n",
              "        const element = document.querySelector('#df-8bd0c406-9613-43df-a050-03f3ce825bb2');\n",
              "        const dataTable =\n",
              "          await google.colab.kernel.invokeFunction('convertToInteractive',\n",
              "                                                    [key], {});\n",
              "        if (!dataTable) return;\n",
              "\n",
              "        const docLinkHtml = 'Like what you see? Visit the ' +\n",
              "          '<a target=\"_blank\" href=https://colab.research.google.com/notebooks/data_table.ipynb>data table notebook</a>'\n",
              "          + ' to learn more about interactive tables.';\n",
              "        element.innerHTML = '';\n",
              "        dataTable['output_type'] = 'display_data';\n",
              "        await google.colab.output.renderOutput(dataTable, element);\n",
              "        const docLink = document.createElement('div');\n",
              "        docLink.innerHTML = docLinkHtml;\n",
              "        element.appendChild(docLink);\n",
              "      }\n",
              "    </script>\n",
              "  </div>\n",
              "\n",
              "    </div>\n",
              "  </div>\n"
            ]
          },
          "metadata": {},
          "execution_count": 5
        }
      ]
    },
    {
      "cell_type": "code",
      "source": [
        "df.describe().T"
      ],
      "metadata": {
        "colab": {
          "base_uri": "https://localhost:8080/",
          "height": 269
        },
        "id": "VhC3rloVFBT6",
        "outputId": "69995cc1-72f3-4fd0-d600-c60c67993aa9"
      },
      "execution_count": 6,
      "outputs": [
        {
          "output_type": "execute_result",
          "data": {
            "text/plain": [
              "                       count          mean           std        min  \\\n",
              "new_constructed_units  670.0   1396.762687    358.271084    520.000   \n",
              "unemployment_rate      910.0      5.709670      1.708239      2.500   \n",
              "interest_rates         832.0      4.599916      3.596581      0.050   \n",
              "income                 778.0   8255.129820   4299.805894   2318.400   \n",
              "home_price_index       442.0    142.293441     61.649943     63.965   \n",
              "per_capita_gdp         922.0  37430.843818  15402.352634  15032.000   \n",
              "urban_population       766.0     76.764057      3.788336     69.996   \n",
              "\n",
              "                               25%        50%         75%        max  \n",
              "new_constructed_units   1190.00000   1396.000   1641.7500   2299.000  \n",
              "unemployment_rate          4.40000      5.500      6.7000     14.700  \n",
              "interest_rates             1.79000      4.160      6.2425     19.100  \n",
              "income                  4539.62500   7282.850  12069.1750  20422.600  \n",
              "home_price_index          82.25075    141.275    179.0250    311.175  \n",
              "per_capita_gdp         24176.75000  35582.000  52835.0000  67083.000  \n",
              "urban_population          73.65550     75.701     80.2690     83.084  "
            ],
            "text/html": [
              "\n",
              "  <div id=\"df-8ba3ce21-4384-4f42-b7b0-84b38e9952fb\" class=\"colab-df-container\">\n",
              "    <div>\n",
              "<style scoped>\n",
              "    .dataframe tbody tr th:only-of-type {\n",
              "        vertical-align: middle;\n",
              "    }\n",
              "\n",
              "    .dataframe tbody tr th {\n",
              "        vertical-align: top;\n",
              "    }\n",
              "\n",
              "    .dataframe thead th {\n",
              "        text-align: right;\n",
              "    }\n",
              "</style>\n",
              "<table border=\"1\" class=\"dataframe\">\n",
              "  <thead>\n",
              "    <tr style=\"text-align: right;\">\n",
              "      <th></th>\n",
              "      <th>count</th>\n",
              "      <th>mean</th>\n",
              "      <th>std</th>\n",
              "      <th>min</th>\n",
              "      <th>25%</th>\n",
              "      <th>50%</th>\n",
              "      <th>75%</th>\n",
              "      <th>max</th>\n",
              "    </tr>\n",
              "  </thead>\n",
              "  <tbody>\n",
              "    <tr>\n",
              "      <th>new_constructed_units</th>\n",
              "      <td>670.0</td>\n",
              "      <td>1396.762687</td>\n",
              "      <td>358.271084</td>\n",
              "      <td>520.000</td>\n",
              "      <td>1190.00000</td>\n",
              "      <td>1396.000</td>\n",
              "      <td>1641.7500</td>\n",
              "      <td>2299.000</td>\n",
              "    </tr>\n",
              "    <tr>\n",
              "      <th>unemployment_rate</th>\n",
              "      <td>910.0</td>\n",
              "      <td>5.709670</td>\n",
              "      <td>1.708239</td>\n",
              "      <td>2.500</td>\n",
              "      <td>4.40000</td>\n",
              "      <td>5.500</td>\n",
              "      <td>6.7000</td>\n",
              "      <td>14.700</td>\n",
              "    </tr>\n",
              "    <tr>\n",
              "      <th>interest_rates</th>\n",
              "      <td>832.0</td>\n",
              "      <td>4.599916</td>\n",
              "      <td>3.596581</td>\n",
              "      <td>0.050</td>\n",
              "      <td>1.79000</td>\n",
              "      <td>4.160</td>\n",
              "      <td>6.2425</td>\n",
              "      <td>19.100</td>\n",
              "    </tr>\n",
              "    <tr>\n",
              "      <th>income</th>\n",
              "      <td>778.0</td>\n",
              "      <td>8255.129820</td>\n",
              "      <td>4299.805894</td>\n",
              "      <td>2318.400</td>\n",
              "      <td>4539.62500</td>\n",
              "      <td>7282.850</td>\n",
              "      <td>12069.1750</td>\n",
              "      <td>20422.600</td>\n",
              "    </tr>\n",
              "    <tr>\n",
              "      <th>home_price_index</th>\n",
              "      <td>442.0</td>\n",
              "      <td>142.293441</td>\n",
              "      <td>61.649943</td>\n",
              "      <td>63.965</td>\n",
              "      <td>82.25075</td>\n",
              "      <td>141.275</td>\n",
              "      <td>179.0250</td>\n",
              "      <td>311.175</td>\n",
              "    </tr>\n",
              "    <tr>\n",
              "      <th>per_capita_gdp</th>\n",
              "      <td>922.0</td>\n",
              "      <td>37430.843818</td>\n",
              "      <td>15402.352634</td>\n",
              "      <td>15032.000</td>\n",
              "      <td>24176.75000</td>\n",
              "      <td>35582.000</td>\n",
              "      <td>52835.0000</td>\n",
              "      <td>67083.000</td>\n",
              "    </tr>\n",
              "    <tr>\n",
              "      <th>urban_population</th>\n",
              "      <td>766.0</td>\n",
              "      <td>76.764057</td>\n",
              "      <td>3.788336</td>\n",
              "      <td>69.996</td>\n",
              "      <td>73.65550</td>\n",
              "      <td>75.701</td>\n",
              "      <td>80.2690</td>\n",
              "      <td>83.084</td>\n",
              "    </tr>\n",
              "  </tbody>\n",
              "</table>\n",
              "</div>\n",
              "    <div class=\"colab-df-buttons\">\n",
              "\n",
              "  <div class=\"colab-df-container\">\n",
              "    <button class=\"colab-df-convert\" onclick=\"convertToInteractive('df-8ba3ce21-4384-4f42-b7b0-84b38e9952fb')\"\n",
              "            title=\"Convert this dataframe to an interactive table.\"\n",
              "            style=\"display:none;\">\n",
              "\n",
              "  <svg xmlns=\"http://www.w3.org/2000/svg\" height=\"24px\" viewBox=\"0 -960 960 960\">\n",
              "    <path d=\"M120-120v-720h720v720H120Zm60-500h600v-160H180v160Zm220 220h160v-160H400v160Zm0 220h160v-160H400v160ZM180-400h160v-160H180v160Zm440 0h160v-160H620v160ZM180-180h160v-160H180v160Zm440 0h160v-160H620v160Z\"/>\n",
              "  </svg>\n",
              "    </button>\n",
              "\n",
              "  <style>\n",
              "    .colab-df-container {\n",
              "      display:flex;\n",
              "      gap: 12px;\n",
              "    }\n",
              "\n",
              "    .colab-df-convert {\n",
              "      background-color: #E8F0FE;\n",
              "      border: none;\n",
              "      border-radius: 50%;\n",
              "      cursor: pointer;\n",
              "      display: none;\n",
              "      fill: #1967D2;\n",
              "      height: 32px;\n",
              "      padding: 0 0 0 0;\n",
              "      width: 32px;\n",
              "    }\n",
              "\n",
              "    .colab-df-convert:hover {\n",
              "      background-color: #E2EBFA;\n",
              "      box-shadow: 0px 1px 2px rgba(60, 64, 67, 0.3), 0px 1px 3px 1px rgba(60, 64, 67, 0.15);\n",
              "      fill: #174EA6;\n",
              "    }\n",
              "\n",
              "    .colab-df-buttons div {\n",
              "      margin-bottom: 4px;\n",
              "    }\n",
              "\n",
              "    [theme=dark] .colab-df-convert {\n",
              "      background-color: #3B4455;\n",
              "      fill: #D2E3FC;\n",
              "    }\n",
              "\n",
              "    [theme=dark] .colab-df-convert:hover {\n",
              "      background-color: #434B5C;\n",
              "      box-shadow: 0px 1px 3px 1px rgba(0, 0, 0, 0.15);\n",
              "      filter: drop-shadow(0px 1px 2px rgba(0, 0, 0, 0.3));\n",
              "      fill: #FFFFFF;\n",
              "    }\n",
              "  </style>\n",
              "\n",
              "    <script>\n",
              "      const buttonEl =\n",
              "        document.querySelector('#df-8ba3ce21-4384-4f42-b7b0-84b38e9952fb button.colab-df-convert');\n",
              "      buttonEl.style.display =\n",
              "        google.colab.kernel.accessAllowed ? 'block' : 'none';\n",
              "\n",
              "      async function convertToInteractive(key) {\n",
              "        const element = document.querySelector('#df-8ba3ce21-4384-4f42-b7b0-84b38e9952fb');\n",
              "        const dataTable =\n",
              "          await google.colab.kernel.invokeFunction('convertToInteractive',\n",
              "                                                    [key], {});\n",
              "        if (!dataTable) return;\n",
              "\n",
              "        const docLinkHtml = 'Like what you see? Visit the ' +\n",
              "          '<a target=\"_blank\" href=https://colab.research.google.com/notebooks/data_table.ipynb>data table notebook</a>'\n",
              "          + ' to learn more about interactive tables.';\n",
              "        element.innerHTML = '';\n",
              "        dataTable['output_type'] = 'display_data';\n",
              "        await google.colab.output.renderOutput(dataTable, element);\n",
              "        const docLink = document.createElement('div');\n",
              "        docLink.innerHTML = docLinkHtml;\n",
              "        element.appendChild(docLink);\n",
              "      }\n",
              "    </script>\n",
              "  </div>\n",
              "\n",
              "\n",
              "<div id=\"df-60959442-bd58-4dd6-b55b-bc6757bde3b7\">\n",
              "  <button class=\"colab-df-quickchart\" onclick=\"quickchart('df-60959442-bd58-4dd6-b55b-bc6757bde3b7')\"\n",
              "            title=\"Suggest charts\"\n",
              "            style=\"display:none;\">\n",
              "\n",
              "<svg xmlns=\"http://www.w3.org/2000/svg\" height=\"24px\"viewBox=\"0 0 24 24\"\n",
              "     width=\"24px\">\n",
              "    <g>\n",
              "        <path d=\"M19 3H5c-1.1 0-2 .9-2 2v14c0 1.1.9 2 2 2h14c1.1 0 2-.9 2-2V5c0-1.1-.9-2-2-2zM9 17H7v-7h2v7zm4 0h-2V7h2v10zm4 0h-2v-4h2v4z\"/>\n",
              "    </g>\n",
              "</svg>\n",
              "  </button>\n",
              "\n",
              "<style>\n",
              "  .colab-df-quickchart {\n",
              "      --bg-color: #E8F0FE;\n",
              "      --fill-color: #1967D2;\n",
              "      --hover-bg-color: #E2EBFA;\n",
              "      --hover-fill-color: #174EA6;\n",
              "      --disabled-fill-color: #AAA;\n",
              "      --disabled-bg-color: #DDD;\n",
              "  }\n",
              "\n",
              "  [theme=dark] .colab-df-quickchart {\n",
              "      --bg-color: #3B4455;\n",
              "      --fill-color: #D2E3FC;\n",
              "      --hover-bg-color: #434B5C;\n",
              "      --hover-fill-color: #FFFFFF;\n",
              "      --disabled-bg-color: #3B4455;\n",
              "      --disabled-fill-color: #666;\n",
              "  }\n",
              "\n",
              "  .colab-df-quickchart {\n",
              "    background-color: var(--bg-color);\n",
              "    border: none;\n",
              "    border-radius: 50%;\n",
              "    cursor: pointer;\n",
              "    display: none;\n",
              "    fill: var(--fill-color);\n",
              "    height: 32px;\n",
              "    padding: 0;\n",
              "    width: 32px;\n",
              "  }\n",
              "\n",
              "  .colab-df-quickchart:hover {\n",
              "    background-color: var(--hover-bg-color);\n",
              "    box-shadow: 0 1px 2px rgba(60, 64, 67, 0.3), 0 1px 3px 1px rgba(60, 64, 67, 0.15);\n",
              "    fill: var(--button-hover-fill-color);\n",
              "  }\n",
              "\n",
              "  .colab-df-quickchart-complete:disabled,\n",
              "  .colab-df-quickchart-complete:disabled:hover {\n",
              "    background-color: var(--disabled-bg-color);\n",
              "    fill: var(--disabled-fill-color);\n",
              "    box-shadow: none;\n",
              "  }\n",
              "\n",
              "  .colab-df-spinner {\n",
              "    border: 2px solid var(--fill-color);\n",
              "    border-color: transparent;\n",
              "    border-bottom-color: var(--fill-color);\n",
              "    animation:\n",
              "      spin 1s steps(1) infinite;\n",
              "  }\n",
              "\n",
              "  @keyframes spin {\n",
              "    0% {\n",
              "      border-color: transparent;\n",
              "      border-bottom-color: var(--fill-color);\n",
              "      border-left-color: var(--fill-color);\n",
              "    }\n",
              "    20% {\n",
              "      border-color: transparent;\n",
              "      border-left-color: var(--fill-color);\n",
              "      border-top-color: var(--fill-color);\n",
              "    }\n",
              "    30% {\n",
              "      border-color: transparent;\n",
              "      border-left-color: var(--fill-color);\n",
              "      border-top-color: var(--fill-color);\n",
              "      border-right-color: var(--fill-color);\n",
              "    }\n",
              "    40% {\n",
              "      border-color: transparent;\n",
              "      border-right-color: var(--fill-color);\n",
              "      border-top-color: var(--fill-color);\n",
              "    }\n",
              "    60% {\n",
              "      border-color: transparent;\n",
              "      border-right-color: var(--fill-color);\n",
              "    }\n",
              "    80% {\n",
              "      border-color: transparent;\n",
              "      border-right-color: var(--fill-color);\n",
              "      border-bottom-color: var(--fill-color);\n",
              "    }\n",
              "    90% {\n",
              "      border-color: transparent;\n",
              "      border-bottom-color: var(--fill-color);\n",
              "    }\n",
              "  }\n",
              "</style>\n",
              "\n",
              "  <script>\n",
              "    async function quickchart(key) {\n",
              "      const quickchartButtonEl =\n",
              "        document.querySelector('#' + key + ' button');\n",
              "      quickchartButtonEl.disabled = true;  // To prevent multiple clicks.\n",
              "      quickchartButtonEl.classList.add('colab-df-spinner');\n",
              "      try {\n",
              "        const charts = await google.colab.kernel.invokeFunction(\n",
              "            'suggestCharts', [key], {});\n",
              "      } catch (error) {\n",
              "        console.error('Error during call to suggestCharts:', error);\n",
              "      }\n",
              "      quickchartButtonEl.classList.remove('colab-df-spinner');\n",
              "      quickchartButtonEl.classList.add('colab-df-quickchart-complete');\n",
              "    }\n",
              "    (() => {\n",
              "      let quickchartButtonEl =\n",
              "        document.querySelector('#df-60959442-bd58-4dd6-b55b-bc6757bde3b7 button');\n",
              "      quickchartButtonEl.style.display =\n",
              "        google.colab.kernel.accessAllowed ? 'block' : 'none';\n",
              "    })();\n",
              "  </script>\n",
              "</div>\n",
              "    </div>\n",
              "  </div>\n"
            ]
          },
          "metadata": {},
          "execution_count": 6
        }
      ]
    },
    {
      "cell_type": "code",
      "source": [
        "df.nunique()"
      ],
      "metadata": {
        "colab": {
          "base_uri": "https://localhost:8080/"
        },
        "id": "AyyvqSeJP355",
        "outputId": "7803b33d-8ae2-4674-939f-97f441411d37"
      },
      "execution_count": 7,
      "outputs": [
        {
          "output_type": "execute_result",
          "data": {
            "text/plain": [
              "date                     922\n",
              "new_constructed_units    536\n",
              "unemployment_rate         83\n",
              "interest_rates           503\n",
              "income                   777\n",
              "home_price_index         440\n",
              "per_capita_gdp           307\n",
              "urban_population          63\n",
              "dtype: int64"
            ]
          },
          "metadata": {},
          "execution_count": 7
        }
      ]
    },
    {
      "cell_type": "code",
      "source": [
        "df.info()"
      ],
      "metadata": {
        "colab": {
          "base_uri": "https://localhost:8080/"
        },
        "id": "FUgn1AOYFJGe",
        "outputId": "a517793d-fb9e-4f1a-9c3c-bf15045a98ce"
      },
      "execution_count": 8,
      "outputs": [
        {
          "output_type": "stream",
          "name": "stdout",
          "text": [
            "<class 'pandas.core.frame.DataFrame'>\n",
            "RangeIndex: 922 entries, 0 to 921\n",
            "Data columns (total 8 columns):\n",
            " #   Column                 Non-Null Count  Dtype  \n",
            "---  ------                 --------------  -----  \n",
            " 0   date                   922 non-null    object \n",
            " 1   new_constructed_units  670 non-null    float64\n",
            " 2   unemployment_rate      910 non-null    float64\n",
            " 3   interest_rates         832 non-null    float64\n",
            " 4   income                 778 non-null    float64\n",
            " 5   home_price_index       442 non-null    float64\n",
            " 6   per_capita_gdp         922 non-null    int64  \n",
            " 7   urban_population       766 non-null    float64\n",
            "dtypes: float64(6), int64(1), object(1)\n",
            "memory usage: 57.8+ KB\n"
          ]
        }
      ]
    },
    {
      "cell_type": "code",
      "source": [
        "df['date'] = pd.to_datetime(df['date'])"
      ],
      "metadata": {
        "id": "N0TKOo7wFa7f"
      },
      "execution_count": 9,
      "outputs": []
    },
    {
      "cell_type": "code",
      "source": [
        "df.info()"
      ],
      "metadata": {
        "colab": {
          "base_uri": "https://localhost:8080/"
        },
        "id": "XBD7B1WmG0Dv",
        "outputId": "fd5c145e-0cc2-4afc-968e-1ab42dcbe220"
      },
      "execution_count": 10,
      "outputs": [
        {
          "output_type": "stream",
          "name": "stdout",
          "text": [
            "<class 'pandas.core.frame.DataFrame'>\n",
            "RangeIndex: 922 entries, 0 to 921\n",
            "Data columns (total 8 columns):\n",
            " #   Column                 Non-Null Count  Dtype         \n",
            "---  ------                 --------------  -----         \n",
            " 0   date                   922 non-null    datetime64[ns]\n",
            " 1   new_constructed_units  670 non-null    float64       \n",
            " 2   unemployment_rate      910 non-null    float64       \n",
            " 3   interest_rates         832 non-null    float64       \n",
            " 4   income                 778 non-null    float64       \n",
            " 5   home_price_index       442 non-null    float64       \n",
            " 6   per_capita_gdp         922 non-null    int64         \n",
            " 7   urban_population       766 non-null    float64       \n",
            "dtypes: datetime64[ns](1), float64(6), int64(1)\n",
            "memory usage: 57.8 KB\n"
          ]
        }
      ]
    },
    {
      "cell_type": "code",
      "source": [
        "df.head(1)"
      ],
      "metadata": {
        "colab": {
          "base_uri": "https://localhost:8080/",
          "height": 81
        },
        "id": "2fFNUbRWHXOK",
        "outputId": "693e70e6-2d48-4601-ede0-f4f5fe7fe75c"
      },
      "execution_count": 11,
      "outputs": [
        {
          "output_type": "execute_result",
          "data": {
            "text/plain": [
              "        date  new_constructed_units  unemployment_rate  interest_rates  \\\n",
              "0 1947-01-01                    NaN                NaN             NaN   \n",
              "\n",
              "   income  home_price_index  per_capita_gdp  urban_population  \n",
              "0     NaN               NaN           15248               NaN  "
            ],
            "text/html": [
              "\n",
              "  <div id=\"df-4b37d7c4-e41f-46c3-b878-ff1a41f15918\" class=\"colab-df-container\">\n",
              "    <div>\n",
              "<style scoped>\n",
              "    .dataframe tbody tr th:only-of-type {\n",
              "        vertical-align: middle;\n",
              "    }\n",
              "\n",
              "    .dataframe tbody tr th {\n",
              "        vertical-align: top;\n",
              "    }\n",
              "\n",
              "    .dataframe thead th {\n",
              "        text-align: right;\n",
              "    }\n",
              "</style>\n",
              "<table border=\"1\" class=\"dataframe\">\n",
              "  <thead>\n",
              "    <tr style=\"text-align: right;\">\n",
              "      <th></th>\n",
              "      <th>date</th>\n",
              "      <th>new_constructed_units</th>\n",
              "      <th>unemployment_rate</th>\n",
              "      <th>interest_rates</th>\n",
              "      <th>income</th>\n",
              "      <th>home_price_index</th>\n",
              "      <th>per_capita_gdp</th>\n",
              "      <th>urban_population</th>\n",
              "    </tr>\n",
              "  </thead>\n",
              "  <tbody>\n",
              "    <tr>\n",
              "      <th>0</th>\n",
              "      <td>1947-01-01</td>\n",
              "      <td>NaN</td>\n",
              "      <td>NaN</td>\n",
              "      <td>NaN</td>\n",
              "      <td>NaN</td>\n",
              "      <td>NaN</td>\n",
              "      <td>15248</td>\n",
              "      <td>NaN</td>\n",
              "    </tr>\n",
              "  </tbody>\n",
              "</table>\n",
              "</div>\n",
              "    <div class=\"colab-df-buttons\">\n",
              "\n",
              "  <div class=\"colab-df-container\">\n",
              "    <button class=\"colab-df-convert\" onclick=\"convertToInteractive('df-4b37d7c4-e41f-46c3-b878-ff1a41f15918')\"\n",
              "            title=\"Convert this dataframe to an interactive table.\"\n",
              "            style=\"display:none;\">\n",
              "\n",
              "  <svg xmlns=\"http://www.w3.org/2000/svg\" height=\"24px\" viewBox=\"0 -960 960 960\">\n",
              "    <path d=\"M120-120v-720h720v720H120Zm60-500h600v-160H180v160Zm220 220h160v-160H400v160Zm0 220h160v-160H400v160ZM180-400h160v-160H180v160Zm440 0h160v-160H620v160ZM180-180h160v-160H180v160Zm440 0h160v-160H620v160Z\"/>\n",
              "  </svg>\n",
              "    </button>\n",
              "\n",
              "  <style>\n",
              "    .colab-df-container {\n",
              "      display:flex;\n",
              "      gap: 12px;\n",
              "    }\n",
              "\n",
              "    .colab-df-convert {\n",
              "      background-color: #E8F0FE;\n",
              "      border: none;\n",
              "      border-radius: 50%;\n",
              "      cursor: pointer;\n",
              "      display: none;\n",
              "      fill: #1967D2;\n",
              "      height: 32px;\n",
              "      padding: 0 0 0 0;\n",
              "      width: 32px;\n",
              "    }\n",
              "\n",
              "    .colab-df-convert:hover {\n",
              "      background-color: #E2EBFA;\n",
              "      box-shadow: 0px 1px 2px rgba(60, 64, 67, 0.3), 0px 1px 3px 1px rgba(60, 64, 67, 0.15);\n",
              "      fill: #174EA6;\n",
              "    }\n",
              "\n",
              "    .colab-df-buttons div {\n",
              "      margin-bottom: 4px;\n",
              "    }\n",
              "\n",
              "    [theme=dark] .colab-df-convert {\n",
              "      background-color: #3B4455;\n",
              "      fill: #D2E3FC;\n",
              "    }\n",
              "\n",
              "    [theme=dark] .colab-df-convert:hover {\n",
              "      background-color: #434B5C;\n",
              "      box-shadow: 0px 1px 3px 1px rgba(0, 0, 0, 0.15);\n",
              "      filter: drop-shadow(0px 1px 2px rgba(0, 0, 0, 0.3));\n",
              "      fill: #FFFFFF;\n",
              "    }\n",
              "  </style>\n",
              "\n",
              "    <script>\n",
              "      const buttonEl =\n",
              "        document.querySelector('#df-4b37d7c4-e41f-46c3-b878-ff1a41f15918 button.colab-df-convert');\n",
              "      buttonEl.style.display =\n",
              "        google.colab.kernel.accessAllowed ? 'block' : 'none';\n",
              "\n",
              "      async function convertToInteractive(key) {\n",
              "        const element = document.querySelector('#df-4b37d7c4-e41f-46c3-b878-ff1a41f15918');\n",
              "        const dataTable =\n",
              "          await google.colab.kernel.invokeFunction('convertToInteractive',\n",
              "                                                    [key], {});\n",
              "        if (!dataTable) return;\n",
              "\n",
              "        const docLinkHtml = 'Like what you see? Visit the ' +\n",
              "          '<a target=\"_blank\" href=https://colab.research.google.com/notebooks/data_table.ipynb>data table notebook</a>'\n",
              "          + ' to learn more about interactive tables.';\n",
              "        element.innerHTML = '';\n",
              "        dataTable['output_type'] = 'display_data';\n",
              "        await google.colab.output.renderOutput(dataTable, element);\n",
              "        const docLink = document.createElement('div');\n",
              "        docLink.innerHTML = docLinkHtml;\n",
              "        element.appendChild(docLink);\n",
              "      }\n",
              "    </script>\n",
              "  </div>\n",
              "\n",
              "    </div>\n",
              "  </div>\n"
            ]
          },
          "metadata": {},
          "execution_count": 11
        }
      ]
    },
    {
      "cell_type": "code",
      "source": [
        "df_20 = df[(df[\"date\"] >= '01-01-2003') & (df[\"date\"] <= '01-10-2023')]"
      ],
      "metadata": {
        "id": "97Nix572HYzy"
      },
      "execution_count": 12,
      "outputs": []
    },
    {
      "cell_type": "code",
      "source": [
        "df_20.head(1)"
      ],
      "metadata": {
        "colab": {
          "base_uri": "https://localhost:8080/",
          "height": 81
        },
        "id": "OQRnuYRDHaBm",
        "outputId": "952ed722-d814-4c57-8b42-b06b39fee57a"
      },
      "execution_count": 13,
      "outputs": [
        {
          "output_type": "execute_result",
          "data": {
            "text/plain": [
              "          date  new_constructed_units  unemployment_rate  interest_rates  \\\n",
              "672 2003-01-01                 1654.0                5.8            1.24   \n",
              "\n",
              "      income  home_price_index  per_capita_gdp  urban_population  \n",
              "672  10710.4           128.461           50462            79.583  "
            ],
            "text/html": [
              "\n",
              "  <div id=\"df-53223416-7c81-41e6-8113-68555de20658\" class=\"colab-df-container\">\n",
              "    <div>\n",
              "<style scoped>\n",
              "    .dataframe tbody tr th:only-of-type {\n",
              "        vertical-align: middle;\n",
              "    }\n",
              "\n",
              "    .dataframe tbody tr th {\n",
              "        vertical-align: top;\n",
              "    }\n",
              "\n",
              "    .dataframe thead th {\n",
              "        text-align: right;\n",
              "    }\n",
              "</style>\n",
              "<table border=\"1\" class=\"dataframe\">\n",
              "  <thead>\n",
              "    <tr style=\"text-align: right;\">\n",
              "      <th></th>\n",
              "      <th>date</th>\n",
              "      <th>new_constructed_units</th>\n",
              "      <th>unemployment_rate</th>\n",
              "      <th>interest_rates</th>\n",
              "      <th>income</th>\n",
              "      <th>home_price_index</th>\n",
              "      <th>per_capita_gdp</th>\n",
              "      <th>urban_population</th>\n",
              "    </tr>\n",
              "  </thead>\n",
              "  <tbody>\n",
              "    <tr>\n",
              "      <th>672</th>\n",
              "      <td>2003-01-01</td>\n",
              "      <td>1654.0</td>\n",
              "      <td>5.8</td>\n",
              "      <td>1.24</td>\n",
              "      <td>10710.4</td>\n",
              "      <td>128.461</td>\n",
              "      <td>50462</td>\n",
              "      <td>79.583</td>\n",
              "    </tr>\n",
              "  </tbody>\n",
              "</table>\n",
              "</div>\n",
              "    <div class=\"colab-df-buttons\">\n",
              "\n",
              "  <div class=\"colab-df-container\">\n",
              "    <button class=\"colab-df-convert\" onclick=\"convertToInteractive('df-53223416-7c81-41e6-8113-68555de20658')\"\n",
              "            title=\"Convert this dataframe to an interactive table.\"\n",
              "            style=\"display:none;\">\n",
              "\n",
              "  <svg xmlns=\"http://www.w3.org/2000/svg\" height=\"24px\" viewBox=\"0 -960 960 960\">\n",
              "    <path d=\"M120-120v-720h720v720H120Zm60-500h600v-160H180v160Zm220 220h160v-160H400v160Zm0 220h160v-160H400v160ZM180-400h160v-160H180v160Zm440 0h160v-160H620v160ZM180-180h160v-160H180v160Zm440 0h160v-160H620v160Z\"/>\n",
              "  </svg>\n",
              "    </button>\n",
              "\n",
              "  <style>\n",
              "    .colab-df-container {\n",
              "      display:flex;\n",
              "      gap: 12px;\n",
              "    }\n",
              "\n",
              "    .colab-df-convert {\n",
              "      background-color: #E8F0FE;\n",
              "      border: none;\n",
              "      border-radius: 50%;\n",
              "      cursor: pointer;\n",
              "      display: none;\n",
              "      fill: #1967D2;\n",
              "      height: 32px;\n",
              "      padding: 0 0 0 0;\n",
              "      width: 32px;\n",
              "    }\n",
              "\n",
              "    .colab-df-convert:hover {\n",
              "      background-color: #E2EBFA;\n",
              "      box-shadow: 0px 1px 2px rgba(60, 64, 67, 0.3), 0px 1px 3px 1px rgba(60, 64, 67, 0.15);\n",
              "      fill: #174EA6;\n",
              "    }\n",
              "\n",
              "    .colab-df-buttons div {\n",
              "      margin-bottom: 4px;\n",
              "    }\n",
              "\n",
              "    [theme=dark] .colab-df-convert {\n",
              "      background-color: #3B4455;\n",
              "      fill: #D2E3FC;\n",
              "    }\n",
              "\n",
              "    [theme=dark] .colab-df-convert:hover {\n",
              "      background-color: #434B5C;\n",
              "      box-shadow: 0px 1px 3px 1px rgba(0, 0, 0, 0.15);\n",
              "      filter: drop-shadow(0px 1px 2px rgba(0, 0, 0, 0.3));\n",
              "      fill: #FFFFFF;\n",
              "    }\n",
              "  </style>\n",
              "\n",
              "    <script>\n",
              "      const buttonEl =\n",
              "        document.querySelector('#df-53223416-7c81-41e6-8113-68555de20658 button.colab-df-convert');\n",
              "      buttonEl.style.display =\n",
              "        google.colab.kernel.accessAllowed ? 'block' : 'none';\n",
              "\n",
              "      async function convertToInteractive(key) {\n",
              "        const element = document.querySelector('#df-53223416-7c81-41e6-8113-68555de20658');\n",
              "        const dataTable =\n",
              "          await google.colab.kernel.invokeFunction('convertToInteractive',\n",
              "                                                    [key], {});\n",
              "        if (!dataTable) return;\n",
              "\n",
              "        const docLinkHtml = 'Like what you see? Visit the ' +\n",
              "          '<a target=\"_blank\" href=https://colab.research.google.com/notebooks/data_table.ipynb>data table notebook</a>'\n",
              "          + ' to learn more about interactive tables.';\n",
              "        element.innerHTML = '';\n",
              "        dataTable['output_type'] = 'display_data';\n",
              "        await google.colab.output.renderOutput(dataTable, element);\n",
              "        const docLink = document.createElement('div');\n",
              "        docLink.innerHTML = docLinkHtml;\n",
              "        element.appendChild(docLink);\n",
              "      }\n",
              "    </script>\n",
              "  </div>\n",
              "\n",
              "    </div>\n",
              "  </div>\n"
            ]
          },
          "metadata": {},
          "execution_count": 13
        }
      ]
    },
    {
      "cell_type": "code",
      "source": [
        "df_20.tail(1)"
      ],
      "metadata": {
        "colab": {
          "base_uri": "https://localhost:8080/",
          "height": 81
        },
        "id": "Zk7vZ7WbHbJ-",
        "outputId": "6a51b372-bdf5-436a-e4ea-ad1de36b4d26"
      },
      "execution_count": 14,
      "outputs": [
        {
          "output_type": "execute_result",
          "data": {
            "text/plain": [
              "          date  new_constructed_units  unemployment_rate  interest_rates  \\\n",
              "921 2023-01-10                 1410.0                3.9            5.33   \n",
              "\n",
              "      income  home_price_index  per_capita_gdp  urban_population  \n",
              "921  16848.7           311.175           67083            83.084  "
            ],
            "text/html": [
              "\n",
              "  <div id=\"df-6149c4d6-9759-40f9-b0ea-9c29afd80543\" class=\"colab-df-container\">\n",
              "    <div>\n",
              "<style scoped>\n",
              "    .dataframe tbody tr th:only-of-type {\n",
              "        vertical-align: middle;\n",
              "    }\n",
              "\n",
              "    .dataframe tbody tr th {\n",
              "        vertical-align: top;\n",
              "    }\n",
              "\n",
              "    .dataframe thead th {\n",
              "        text-align: right;\n",
              "    }\n",
              "</style>\n",
              "<table border=\"1\" class=\"dataframe\">\n",
              "  <thead>\n",
              "    <tr style=\"text-align: right;\">\n",
              "      <th></th>\n",
              "      <th>date</th>\n",
              "      <th>new_constructed_units</th>\n",
              "      <th>unemployment_rate</th>\n",
              "      <th>interest_rates</th>\n",
              "      <th>income</th>\n",
              "      <th>home_price_index</th>\n",
              "      <th>per_capita_gdp</th>\n",
              "      <th>urban_population</th>\n",
              "    </tr>\n",
              "  </thead>\n",
              "  <tbody>\n",
              "    <tr>\n",
              "      <th>921</th>\n",
              "      <td>2023-01-10</td>\n",
              "      <td>1410.0</td>\n",
              "      <td>3.9</td>\n",
              "      <td>5.33</td>\n",
              "      <td>16848.7</td>\n",
              "      <td>311.175</td>\n",
              "      <td>67083</td>\n",
              "      <td>83.084</td>\n",
              "    </tr>\n",
              "  </tbody>\n",
              "</table>\n",
              "</div>\n",
              "    <div class=\"colab-df-buttons\">\n",
              "\n",
              "  <div class=\"colab-df-container\">\n",
              "    <button class=\"colab-df-convert\" onclick=\"convertToInteractive('df-6149c4d6-9759-40f9-b0ea-9c29afd80543')\"\n",
              "            title=\"Convert this dataframe to an interactive table.\"\n",
              "            style=\"display:none;\">\n",
              "\n",
              "  <svg xmlns=\"http://www.w3.org/2000/svg\" height=\"24px\" viewBox=\"0 -960 960 960\">\n",
              "    <path d=\"M120-120v-720h720v720H120Zm60-500h600v-160H180v160Zm220 220h160v-160H400v160Zm0 220h160v-160H400v160ZM180-400h160v-160H180v160Zm440 0h160v-160H620v160ZM180-180h160v-160H180v160Zm440 0h160v-160H620v160Z\"/>\n",
              "  </svg>\n",
              "    </button>\n",
              "\n",
              "  <style>\n",
              "    .colab-df-container {\n",
              "      display:flex;\n",
              "      gap: 12px;\n",
              "    }\n",
              "\n",
              "    .colab-df-convert {\n",
              "      background-color: #E8F0FE;\n",
              "      border: none;\n",
              "      border-radius: 50%;\n",
              "      cursor: pointer;\n",
              "      display: none;\n",
              "      fill: #1967D2;\n",
              "      height: 32px;\n",
              "      padding: 0 0 0 0;\n",
              "      width: 32px;\n",
              "    }\n",
              "\n",
              "    .colab-df-convert:hover {\n",
              "      background-color: #E2EBFA;\n",
              "      box-shadow: 0px 1px 2px rgba(60, 64, 67, 0.3), 0px 1px 3px 1px rgba(60, 64, 67, 0.15);\n",
              "      fill: #174EA6;\n",
              "    }\n",
              "\n",
              "    .colab-df-buttons div {\n",
              "      margin-bottom: 4px;\n",
              "    }\n",
              "\n",
              "    [theme=dark] .colab-df-convert {\n",
              "      background-color: #3B4455;\n",
              "      fill: #D2E3FC;\n",
              "    }\n",
              "\n",
              "    [theme=dark] .colab-df-convert:hover {\n",
              "      background-color: #434B5C;\n",
              "      box-shadow: 0px 1px 3px 1px rgba(0, 0, 0, 0.15);\n",
              "      filter: drop-shadow(0px 1px 2px rgba(0, 0, 0, 0.3));\n",
              "      fill: #FFFFFF;\n",
              "    }\n",
              "  </style>\n",
              "\n",
              "    <script>\n",
              "      const buttonEl =\n",
              "        document.querySelector('#df-6149c4d6-9759-40f9-b0ea-9c29afd80543 button.colab-df-convert');\n",
              "      buttonEl.style.display =\n",
              "        google.colab.kernel.accessAllowed ? 'block' : 'none';\n",
              "\n",
              "      async function convertToInteractive(key) {\n",
              "        const element = document.querySelector('#df-6149c4d6-9759-40f9-b0ea-9c29afd80543');\n",
              "        const dataTable =\n",
              "          await google.colab.kernel.invokeFunction('convertToInteractive',\n",
              "                                                    [key], {});\n",
              "        if (!dataTable) return;\n",
              "\n",
              "        const docLinkHtml = 'Like what you see? Visit the ' +\n",
              "          '<a target=\"_blank\" href=https://colab.research.google.com/notebooks/data_table.ipynb>data table notebook</a>'\n",
              "          + ' to learn more about interactive tables.';\n",
              "        element.innerHTML = '';\n",
              "        dataTable['output_type'] = 'display_data';\n",
              "        await google.colab.output.renderOutput(dataTable, element);\n",
              "        const docLink = document.createElement('div');\n",
              "        docLink.innerHTML = docLinkHtml;\n",
              "        element.appendChild(docLink);\n",
              "      }\n",
              "    </script>\n",
              "  </div>\n",
              "\n",
              "    </div>\n",
              "  </div>\n"
            ]
          },
          "metadata": {},
          "execution_count": 14
        }
      ]
    },
    {
      "cell_type": "code",
      "source": [
        "df_20.isnull().sum()"
      ],
      "metadata": {
        "colab": {
          "base_uri": "https://localhost:8080/"
        },
        "id": "3p1BoMZcHc_R",
        "outputId": "67890825-c30e-42f7-fdf1-4998eb5e73d9"
      },
      "execution_count": 15,
      "outputs": [
        {
          "output_type": "execute_result",
          "data": {
            "text/plain": [
              "date                     0\n",
              "new_constructed_units    0\n",
              "unemployment_rate        0\n",
              "interest_rates           0\n",
              "income                   0\n",
              "home_price_index         0\n",
              "per_capita_gdp           0\n",
              "urban_population         0\n",
              "dtype: int64"
            ]
          },
          "metadata": {},
          "execution_count": 15
        }
      ]
    },
    {
      "cell_type": "markdown",
      "source": [
        "There are no Null Values on our dataset."
      ],
      "metadata": {
        "id": "xPO-pMI8Bfwg"
      }
    },
    {
      "cell_type": "code",
      "source": [
        "df_20.duplicated().sum()"
      ],
      "metadata": {
        "colab": {
          "base_uri": "https://localhost:8080/"
        },
        "id": "m3vhSwDtHuz6",
        "outputId": "6cdd11fa-10b6-4b11-a293-c99cf3090544"
      },
      "execution_count": 16,
      "outputs": [
        {
          "output_type": "execute_result",
          "data": {
            "text/plain": [
              "0"
            ]
          },
          "metadata": {},
          "execution_count": 16
        }
      ]
    },
    {
      "cell_type": "markdown",
      "source": [
        "There are no Duplicate columns present in our dataset."
      ],
      "metadata": {
        "id": "mVYcDiWzBj_b"
      }
    },
    {
      "cell_type": "code",
      "source": [
        "df_20.nunique()"
      ],
      "metadata": {
        "colab": {
          "base_uri": "https://localhost:8080/"
        },
        "id": "d1_XVT39ICJg",
        "outputId": "252af896-e216-4a2e-c808-8aaea659cac0"
      },
      "execution_count": 17,
      "outputs": [
        {
          "output_type": "execute_result",
          "data": {
            "text/plain": [
              "date                     250\n",
              "new_constructed_units    228\n",
              "unemployment_rate         64\n",
              "interest_rates           118\n",
              "income                   250\n",
              "home_price_index         249\n",
              "per_capita_gdp            83\n",
              "urban_population          20\n",
              "dtype: int64"
            ]
          },
          "metadata": {},
          "execution_count": 17
        }
      ]
    },
    {
      "cell_type": "markdown",
      "source": [
        "Above info shows that there are no categorical variables present in the dataset."
      ],
      "metadata": {
        "id": "5Zv9eWxKBqpy"
      }
    },
    {
      "cell_type": "code",
      "source": [
        "df_20['year'] = df_20['date'].dt.year"
      ],
      "metadata": {
        "colab": {
          "base_uri": "https://localhost:8080/"
        },
        "id": "aP7wFxerR5iO",
        "outputId": "3d9e6693-c428-40ee-df60-8958b8c0c49d"
      },
      "execution_count": 18,
      "outputs": [
        {
          "output_type": "stream",
          "name": "stderr",
          "text": [
            "<ipython-input-18-b94521149b84>:1: SettingWithCopyWarning: \n",
            "A value is trying to be set on a copy of a slice from a DataFrame.\n",
            "Try using .loc[row_indexer,col_indexer] = value instead\n",
            "\n",
            "See the caveats in the documentation: https://pandas.pydata.org/pandas-docs/stable/user_guide/indexing.html#returning-a-view-versus-a-copy\n",
            "  df_20['year'] = df_20['date'].dt.year\n"
          ]
        }
      ]
    },
    {
      "cell_type": "markdown",
      "source": [
        "Creating a new variable \"Year\" to make Year wise Analysis for the variables."
      ],
      "metadata": {
        "id": "qO483j2kB1ru"
      }
    },
    {
      "cell_type": "code",
      "source": [
        "df_20.head()"
      ],
      "metadata": {
        "colab": {
          "base_uri": "https://localhost:8080/",
          "height": 206
        },
        "id": "xdC4boq2SZWq",
        "outputId": "267e7d4c-d3f7-40f4-b82c-cfb6929491d3"
      },
      "execution_count": 19,
      "outputs": [
        {
          "output_type": "execute_result",
          "data": {
            "text/plain": [
              "          date  new_constructed_units  unemployment_rate  interest_rates  \\\n",
              "672 2003-01-01                 1654.0                5.8            1.24   \n",
              "673 2003-01-02                 1688.0                5.9            1.26   \n",
              "674 2003-01-03                 1638.0                5.9            1.25   \n",
              "675 2003-01-04                 1662.0                6.0            1.26   \n",
              "676 2003-01-05                 1733.0                6.1            1.26   \n",
              "\n",
              "      income  home_price_index  per_capita_gdp  urban_population  year  \n",
              "672  10710.4           128.461           50462            79.583  2003  \n",
              "673  10674.0           129.355           50462            79.583  2003  \n",
              "674  10696.5           130.148           50462            79.583  2003  \n",
              "675  10752.7           130.884           50796            79.583  2003  \n",
              "676  10832.0           131.735           50796            79.583  2003  "
            ],
            "text/html": [
              "\n",
              "  <div id=\"df-4b2cd628-0103-4f15-8dc3-86eaf17256ac\" class=\"colab-df-container\">\n",
              "    <div>\n",
              "<style scoped>\n",
              "    .dataframe tbody tr th:only-of-type {\n",
              "        vertical-align: middle;\n",
              "    }\n",
              "\n",
              "    .dataframe tbody tr th {\n",
              "        vertical-align: top;\n",
              "    }\n",
              "\n",
              "    .dataframe thead th {\n",
              "        text-align: right;\n",
              "    }\n",
              "</style>\n",
              "<table border=\"1\" class=\"dataframe\">\n",
              "  <thead>\n",
              "    <tr style=\"text-align: right;\">\n",
              "      <th></th>\n",
              "      <th>date</th>\n",
              "      <th>new_constructed_units</th>\n",
              "      <th>unemployment_rate</th>\n",
              "      <th>interest_rates</th>\n",
              "      <th>income</th>\n",
              "      <th>home_price_index</th>\n",
              "      <th>per_capita_gdp</th>\n",
              "      <th>urban_population</th>\n",
              "      <th>year</th>\n",
              "    </tr>\n",
              "  </thead>\n",
              "  <tbody>\n",
              "    <tr>\n",
              "      <th>672</th>\n",
              "      <td>2003-01-01</td>\n",
              "      <td>1654.0</td>\n",
              "      <td>5.8</td>\n",
              "      <td>1.24</td>\n",
              "      <td>10710.4</td>\n",
              "      <td>128.461</td>\n",
              "      <td>50462</td>\n",
              "      <td>79.583</td>\n",
              "      <td>2003</td>\n",
              "    </tr>\n",
              "    <tr>\n",
              "      <th>673</th>\n",
              "      <td>2003-01-02</td>\n",
              "      <td>1688.0</td>\n",
              "      <td>5.9</td>\n",
              "      <td>1.26</td>\n",
              "      <td>10674.0</td>\n",
              "      <td>129.355</td>\n",
              "      <td>50462</td>\n",
              "      <td>79.583</td>\n",
              "      <td>2003</td>\n",
              "    </tr>\n",
              "    <tr>\n",
              "      <th>674</th>\n",
              "      <td>2003-01-03</td>\n",
              "      <td>1638.0</td>\n",
              "      <td>5.9</td>\n",
              "      <td>1.25</td>\n",
              "      <td>10696.5</td>\n",
              "      <td>130.148</td>\n",
              "      <td>50462</td>\n",
              "      <td>79.583</td>\n",
              "      <td>2003</td>\n",
              "    </tr>\n",
              "    <tr>\n",
              "      <th>675</th>\n",
              "      <td>2003-01-04</td>\n",
              "      <td>1662.0</td>\n",
              "      <td>6.0</td>\n",
              "      <td>1.26</td>\n",
              "      <td>10752.7</td>\n",
              "      <td>130.884</td>\n",
              "      <td>50796</td>\n",
              "      <td>79.583</td>\n",
              "      <td>2003</td>\n",
              "    </tr>\n",
              "    <tr>\n",
              "      <th>676</th>\n",
              "      <td>2003-01-05</td>\n",
              "      <td>1733.0</td>\n",
              "      <td>6.1</td>\n",
              "      <td>1.26</td>\n",
              "      <td>10832.0</td>\n",
              "      <td>131.735</td>\n",
              "      <td>50796</td>\n",
              "      <td>79.583</td>\n",
              "      <td>2003</td>\n",
              "    </tr>\n",
              "  </tbody>\n",
              "</table>\n",
              "</div>\n",
              "    <div class=\"colab-df-buttons\">\n",
              "\n",
              "  <div class=\"colab-df-container\">\n",
              "    <button class=\"colab-df-convert\" onclick=\"convertToInteractive('df-4b2cd628-0103-4f15-8dc3-86eaf17256ac')\"\n",
              "            title=\"Convert this dataframe to an interactive table.\"\n",
              "            style=\"display:none;\">\n",
              "\n",
              "  <svg xmlns=\"http://www.w3.org/2000/svg\" height=\"24px\" viewBox=\"0 -960 960 960\">\n",
              "    <path d=\"M120-120v-720h720v720H120Zm60-500h600v-160H180v160Zm220 220h160v-160H400v160Zm0 220h160v-160H400v160ZM180-400h160v-160H180v160Zm440 0h160v-160H620v160ZM180-180h160v-160H180v160Zm440 0h160v-160H620v160Z\"/>\n",
              "  </svg>\n",
              "    </button>\n",
              "\n",
              "  <style>\n",
              "    .colab-df-container {\n",
              "      display:flex;\n",
              "      gap: 12px;\n",
              "    }\n",
              "\n",
              "    .colab-df-convert {\n",
              "      background-color: #E8F0FE;\n",
              "      border: none;\n",
              "      border-radius: 50%;\n",
              "      cursor: pointer;\n",
              "      display: none;\n",
              "      fill: #1967D2;\n",
              "      height: 32px;\n",
              "      padding: 0 0 0 0;\n",
              "      width: 32px;\n",
              "    }\n",
              "\n",
              "    .colab-df-convert:hover {\n",
              "      background-color: #E2EBFA;\n",
              "      box-shadow: 0px 1px 2px rgba(60, 64, 67, 0.3), 0px 1px 3px 1px rgba(60, 64, 67, 0.15);\n",
              "      fill: #174EA6;\n",
              "    }\n",
              "\n",
              "    .colab-df-buttons div {\n",
              "      margin-bottom: 4px;\n",
              "    }\n",
              "\n",
              "    [theme=dark] .colab-df-convert {\n",
              "      background-color: #3B4455;\n",
              "      fill: #D2E3FC;\n",
              "    }\n",
              "\n",
              "    [theme=dark] .colab-df-convert:hover {\n",
              "      background-color: #434B5C;\n",
              "      box-shadow: 0px 1px 3px 1px rgba(0, 0, 0, 0.15);\n",
              "      filter: drop-shadow(0px 1px 2px rgba(0, 0, 0, 0.3));\n",
              "      fill: #FFFFFF;\n",
              "    }\n",
              "  </style>\n",
              "\n",
              "    <script>\n",
              "      const buttonEl =\n",
              "        document.querySelector('#df-4b2cd628-0103-4f15-8dc3-86eaf17256ac button.colab-df-convert');\n",
              "      buttonEl.style.display =\n",
              "        google.colab.kernel.accessAllowed ? 'block' : 'none';\n",
              "\n",
              "      async function convertToInteractive(key) {\n",
              "        const element = document.querySelector('#df-4b2cd628-0103-4f15-8dc3-86eaf17256ac');\n",
              "        const dataTable =\n",
              "          await google.colab.kernel.invokeFunction('convertToInteractive',\n",
              "                                                    [key], {});\n",
              "        if (!dataTable) return;\n",
              "\n",
              "        const docLinkHtml = 'Like what you see? Visit the ' +\n",
              "          '<a target=\"_blank\" href=https://colab.research.google.com/notebooks/data_table.ipynb>data table notebook</a>'\n",
              "          + ' to learn more about interactive tables.';\n",
              "        element.innerHTML = '';\n",
              "        dataTable['output_type'] = 'display_data';\n",
              "        await google.colab.output.renderOutput(dataTable, element);\n",
              "        const docLink = document.createElement('div');\n",
              "        docLink.innerHTML = docLinkHtml;\n",
              "        element.appendChild(docLink);\n",
              "      }\n",
              "    </script>\n",
              "  </div>\n",
              "\n",
              "\n",
              "<div id=\"df-2db9e3d0-0beb-42ec-bf52-bc19e35a4973\">\n",
              "  <button class=\"colab-df-quickchart\" onclick=\"quickchart('df-2db9e3d0-0beb-42ec-bf52-bc19e35a4973')\"\n",
              "            title=\"Suggest charts\"\n",
              "            style=\"display:none;\">\n",
              "\n",
              "<svg xmlns=\"http://www.w3.org/2000/svg\" height=\"24px\"viewBox=\"0 0 24 24\"\n",
              "     width=\"24px\">\n",
              "    <g>\n",
              "        <path d=\"M19 3H5c-1.1 0-2 .9-2 2v14c0 1.1.9 2 2 2h14c1.1 0 2-.9 2-2V5c0-1.1-.9-2-2-2zM9 17H7v-7h2v7zm4 0h-2V7h2v10zm4 0h-2v-4h2v4z\"/>\n",
              "    </g>\n",
              "</svg>\n",
              "  </button>\n",
              "\n",
              "<style>\n",
              "  .colab-df-quickchart {\n",
              "      --bg-color: #E8F0FE;\n",
              "      --fill-color: #1967D2;\n",
              "      --hover-bg-color: #E2EBFA;\n",
              "      --hover-fill-color: #174EA6;\n",
              "      --disabled-fill-color: #AAA;\n",
              "      --disabled-bg-color: #DDD;\n",
              "  }\n",
              "\n",
              "  [theme=dark] .colab-df-quickchart {\n",
              "      --bg-color: #3B4455;\n",
              "      --fill-color: #D2E3FC;\n",
              "      --hover-bg-color: #434B5C;\n",
              "      --hover-fill-color: #FFFFFF;\n",
              "      --disabled-bg-color: #3B4455;\n",
              "      --disabled-fill-color: #666;\n",
              "  }\n",
              "\n",
              "  .colab-df-quickchart {\n",
              "    background-color: var(--bg-color);\n",
              "    border: none;\n",
              "    border-radius: 50%;\n",
              "    cursor: pointer;\n",
              "    display: none;\n",
              "    fill: var(--fill-color);\n",
              "    height: 32px;\n",
              "    padding: 0;\n",
              "    width: 32px;\n",
              "  }\n",
              "\n",
              "  .colab-df-quickchart:hover {\n",
              "    background-color: var(--hover-bg-color);\n",
              "    box-shadow: 0 1px 2px rgba(60, 64, 67, 0.3), 0 1px 3px 1px rgba(60, 64, 67, 0.15);\n",
              "    fill: var(--button-hover-fill-color);\n",
              "  }\n",
              "\n",
              "  .colab-df-quickchart-complete:disabled,\n",
              "  .colab-df-quickchart-complete:disabled:hover {\n",
              "    background-color: var(--disabled-bg-color);\n",
              "    fill: var(--disabled-fill-color);\n",
              "    box-shadow: none;\n",
              "  }\n",
              "\n",
              "  .colab-df-spinner {\n",
              "    border: 2px solid var(--fill-color);\n",
              "    border-color: transparent;\n",
              "    border-bottom-color: var(--fill-color);\n",
              "    animation:\n",
              "      spin 1s steps(1) infinite;\n",
              "  }\n",
              "\n",
              "  @keyframes spin {\n",
              "    0% {\n",
              "      border-color: transparent;\n",
              "      border-bottom-color: var(--fill-color);\n",
              "      border-left-color: var(--fill-color);\n",
              "    }\n",
              "    20% {\n",
              "      border-color: transparent;\n",
              "      border-left-color: var(--fill-color);\n",
              "      border-top-color: var(--fill-color);\n",
              "    }\n",
              "    30% {\n",
              "      border-color: transparent;\n",
              "      border-left-color: var(--fill-color);\n",
              "      border-top-color: var(--fill-color);\n",
              "      border-right-color: var(--fill-color);\n",
              "    }\n",
              "    40% {\n",
              "      border-color: transparent;\n",
              "      border-right-color: var(--fill-color);\n",
              "      border-top-color: var(--fill-color);\n",
              "    }\n",
              "    60% {\n",
              "      border-color: transparent;\n",
              "      border-right-color: var(--fill-color);\n",
              "    }\n",
              "    80% {\n",
              "      border-color: transparent;\n",
              "      border-right-color: var(--fill-color);\n",
              "      border-bottom-color: var(--fill-color);\n",
              "    }\n",
              "    90% {\n",
              "      border-color: transparent;\n",
              "      border-bottom-color: var(--fill-color);\n",
              "    }\n",
              "  }\n",
              "</style>\n",
              "\n",
              "  <script>\n",
              "    async function quickchart(key) {\n",
              "      const quickchartButtonEl =\n",
              "        document.querySelector('#' + key + ' button');\n",
              "      quickchartButtonEl.disabled = true;  // To prevent multiple clicks.\n",
              "      quickchartButtonEl.classList.add('colab-df-spinner');\n",
              "      try {\n",
              "        const charts = await google.colab.kernel.invokeFunction(\n",
              "            'suggestCharts', [key], {});\n",
              "      } catch (error) {\n",
              "        console.error('Error during call to suggestCharts:', error);\n",
              "      }\n",
              "      quickchartButtonEl.classList.remove('colab-df-spinner');\n",
              "      quickchartButtonEl.classList.add('colab-df-quickchart-complete');\n",
              "    }\n",
              "    (() => {\n",
              "      let quickchartButtonEl =\n",
              "        document.querySelector('#df-2db9e3d0-0beb-42ec-bf52-bc19e35a4973 button');\n",
              "      quickchartButtonEl.style.display =\n",
              "        google.colab.kernel.accessAllowed ? 'block' : 'none';\n",
              "    })();\n",
              "  </script>\n",
              "</div>\n",
              "    </div>\n",
              "  </div>\n"
            ]
          },
          "metadata": {},
          "execution_count": 19
        }
      ]
    },
    {
      "cell_type": "code",
      "source": [
        "pd.set_option('display.max_columns',None)\n",
        "df_20.groupby('year')['new_constructed_units','unemployment_rate','interest_rates','income','home_price_index','per_capita_gdp','urban_population'].agg(['mean', 'max', 'min']).T\n"
      ],
      "metadata": {
        "colab": {
          "base_uri": "https://localhost:8080/",
          "height": 763
        },
        "id": "eOt2jgRPQfR5",
        "outputId": "ee9241e7-7b02-4721-d02e-d84835e35411"
      },
      "execution_count": 20,
      "outputs": [
        {
          "output_type": "stream",
          "name": "stderr",
          "text": [
            "<ipython-input-20-7ada3471925c>:2: FutureWarning: Indexing with multiple keys (implicitly converted to a tuple of keys) will be deprecated, use a list instead.\n",
            "  df_20.groupby('year')['new_constructed_units','unemployment_rate','interest_rates','income','home_price_index','per_capita_gdp','urban_population'].agg(['mean', 'max', 'min']).T\n"
          ]
        },
        {
          "output_type": "execute_result",
          "data": {
            "text/plain": [
              "year                                2003          2004          2005  \\\n",
              "new_constructed_units mean   1676.750000   1834.583333   1929.333333   \n",
              "                      max    1733.000000   1938.000000   2103.000000   \n",
              "                      min    1570.000000   1709.000000   1787.000000   \n",
              "unemployment_rate     mean      5.991667      5.541667      5.083333   \n",
              "                      max       6.300000      5.800000      5.400000   \n",
              "                      min       5.700000      5.400000      4.900000   \n",
              "interest_rates        mean      1.127500      1.349167      3.213333   \n",
              "                      max       1.260000      2.160000      4.160000   \n",
              "                      min       0.980000      1.000000      2.280000   \n",
              "income                mean  10884.391667  11233.175000  11364.858333   \n",
              "                      max   11066.700000  11659.000000  11535.200000   \n",
              "                      min   10674.000000  11051.200000  11226.500000   \n",
              "home_price_index      mean    133.731333    150.440250    171.737000   \n",
              "                      max     140.179000    159.330000    180.910000   \n",
              "                      min     128.461000    141.646000    161.288000   \n",
              "per_capita_gdp        mean  51189.000000  52681.250000  54014.250000   \n",
              "                      max   51986.000000  53242.000000  54317.000000   \n",
              "                      min   50462.000000  52179.000000  53719.000000   \n",
              "urban_population      mean     79.583000     79.757000     79.928000   \n",
              "                      max      79.583000     79.757000     79.928000   \n",
              "                      min      79.583000     79.757000     79.928000   \n",
              "\n",
              "year                                2006          2007          2008  \\\n",
              "new_constructed_units mean   1989.000000   1513.833333   1126.833333   \n",
              "                      max    2245.000000   1822.000000   1331.000000   \n",
              "                      min    1877.000000   1328.000000   1017.000000   \n",
              "unemployment_rate     mean      4.608333      4.616667      5.800000   \n",
              "                      max       4.800000      5.000000      7.300000   \n",
              "                      min       4.400000      4.400000      4.900000   \n",
              "interest_rates        mean      4.964167      5.019167      1.927500   \n",
              "                      max       5.250000      5.260000      3.940000   \n",
              "                      min       4.290000      4.240000      0.160000   \n",
              "income                mean  11777.783333  12054.300000  12244.325000   \n",
              "                      max   11958.600000  12120.500000  12696.200000   \n",
              "                      min   11651.800000  11956.600000  12100.800000   \n",
              "home_price_index      mean    183.447500    179.918917    164.057417   \n",
              "                      max     184.364000    184.598000    173.132000   \n",
              "                      min     182.321000    174.342000    153.619000   \n",
              "per_capita_gdp        mean  54993.500000  55560.000000  55105.250000   \n",
              "                      max   55216.000000  55857.000000  55705.000000   \n",
              "                      min   54886.000000  55260.000000  53941.000000   \n",
              "urban_population      mean     80.099000     80.269000     80.438000   \n",
              "                      max      80.099000     80.269000     80.438000   \n",
              "                      min      80.099000     80.269000     80.438000   \n",
              "\n",
              "year                                2009          2010          2011  \\\n",
              "new_constructed_units mean    795.500000    653.750000    584.583333   \n",
              "                      max     846.000000    894.000000    634.000000   \n",
              "                      min     721.000000    552.000000    520.000000   \n",
              "unemployment_rate     mean      9.283333      9.608333      8.933333   \n",
              "                      max      10.000000      9.900000      9.100000   \n",
              "                      min       7.800000      9.300000      8.500000   \n",
              "interest_rates        mean      0.160000      0.175000      0.101667   \n",
              "                      max       0.220000      0.200000      0.170000   \n",
              "                      min       0.120000      0.110000      0.070000   \n",
              "income                mean  12273.441667  12505.291667  12775.250000   \n",
              "                      max   12500.100000  12680.600000  12898.500000   \n",
              "                      min   12193.200000  12285.800000  12705.300000   \n",
              "home_price_index      mean    148.545083    144.674500    139.259500   \n",
              "                      max     151.507000    147.396000    141.521000   \n",
              "                      min     147.694000    142.060000    136.674000   \n",
              "per_capita_gdp        mean  53212.500000  54188.250000  54603.000000   \n",
              "                      max   53531.000000  54569.000000  54979.000000   \n",
              "                      min   53017.000000  53683.000000  54341.000000   \n",
              "urban_population      mean     80.606000     80.772000     80.944000   \n",
              "                      max      80.606000     80.772000     80.944000   \n",
              "                      min      80.606000     80.772000     80.944000   \n",
              "\n",
              "year                                2012          2013          2014  \\\n",
              "new_constructed_units mean    641.416667    763.166667    882.666667   \n",
              "                      max     730.000000    839.000000    975.000000   \n",
              "                      min     545.000000    708.000000    800.000000   \n",
              "unemployment_rate     mean      8.075000      7.358333      6.158333   \n",
              "                      max       8.300000      8.000000      6.700000   \n",
              "                      min       7.700000      6.700000      5.600000   \n",
              "interest_rates        mean      0.140000      0.107500      0.089167   \n",
              "                      max       0.160000      0.150000      0.120000   \n",
              "                      min       0.080000      0.080000      0.070000   \n",
              "income                mean  13125.383333  12937.191667  13383.675000   \n",
              "                      max   13642.700000  13027.500000  13719.100000   \n",
              "                      min   12961.600000  12813.900000  13079.500000   \n",
              "home_price_index      mean    140.993833    154.520750    164.698167   \n",
              "                      max     145.503000    160.994000    168.050000   \n",
              "                      min     136.533000    146.827000    161.927000   \n",
              "per_capita_gdp        mean  55422.250000  56171.750000  57137.750000   \n",
              "                      max   55490.000000  56642.000000  57702.000000   \n",
              "                      min   55342.000000  55859.000000  56345.000000   \n",
              "urban_population      mean     81.119000     81.299000     81.483000   \n",
              "                      max      81.119000     81.299000     81.483000   \n",
              "                      min      81.119000     81.299000     81.483000   \n",
              "\n",
              "year                               2015        2016          2017  \\\n",
              "new_constructed_units mean    965.25000   1060.5000   1151.833333   \n",
              "                      max    1040.00000   1244.0000   1236.000000   \n",
              "                      min     781.00000    945.0000   1069.000000   \n",
              "unemployment_rate     mean      5.27500      4.8750      4.358333   \n",
              "                      max       5.70000      5.1000      4.700000   \n",
              "                      min       5.00000      4.7000      4.100000   \n",
              "interest_rates        mean      0.13250      0.3950      1.001667   \n",
              "                      max       0.24000      0.5400      1.300000   \n",
              "                      min       0.11000      0.3400      0.650000   \n",
              "income                mean  13908.57500  14172.2500  14613.966667   \n",
              "                      max   14060.20000  14313.7000  14797.900000   \n",
              "                      min   13797.70000  14095.5000  14373.700000   \n",
              "home_price_index      mean    172.18175    180.9255    191.397667   \n",
              "                      max     176.54300    185.7220    197.172000   \n",
              "                      min     168.63400    177.2740    186.805000   \n",
              "per_capita_gdp        mean  58363.25000  58967.7500  60000.750000   \n",
              "                      max   58486.00000  59296.0000  60674.000000   \n",
              "                      min   58121.00000  58704.0000  59494.000000   \n",
              "urban_population      mean     81.67100     81.8620     82.058000   \n",
              "                      max      81.67100     81.8620     82.058000   \n",
              "                      min      81.67100     81.8620     82.058000   \n",
              "\n",
              "year                                2018          2019          2020  \\\n",
              "new_constructed_units mean   1190.000000   1260.666667   1286.333333   \n",
              "                      max    1288.000000   1334.000000   1446.000000   \n",
              "                      min    1053.000000   1150.000000   1171.000000   \n",
              "unemployment_rate     mean      3.891667      3.683333      8.091667   \n",
              "                      max       4.100000      4.000000     14.700000   \n",
              "                      min       3.700000      3.500000      3.500000   \n",
              "interest_rates        mean      1.831667      2.158333      0.375833   \n",
              "                      max       2.270000      2.420000      1.580000   \n",
              "                      min       1.410000      1.550000      0.050000   \n",
              "income                mean  15143.616667  15608.908333  16607.466667   \n",
              "                      max   15506.500000  15778.200000  18020.200000   \n",
              "                      min   14886.600000  15501.700000  15696.300000   \n",
              "home_price_index      mean    202.476417    209.463333    222.143417   \n",
              "                      max     206.156000    213.933000    236.486000   \n",
              "                      min     198.315000    206.539000    214.994000   \n",
              "per_capita_gdp        mean  61417.500000  62605.500000  60984.750000   \n",
              "                      max   61622.000000  63257.000000  62414.000000   \n",
              "                      min   61093.000000  61889.000000  57386.000000   \n",
              "urban_population      mean     82.256000     82.459000     82.664000   \n",
              "                      max      82.256000     82.459000     82.664000   \n",
              "                      min      82.256000     82.459000     82.664000   \n",
              "\n",
              "year                                2021          2022        2023  \n",
              "new_constructed_units mean   1340.666667   1387.666667   1451.6000  \n",
              "                      max    1459.000000   1543.000000   1577.0000  \n",
              "                      min    1232.000000   1256.000000   1334.0000  \n",
              "unemployment_rate     mean      5.366667      3.641667      3.6200  \n",
              "                      max       6.300000      4.000000      3.9000  \n",
              "                      min       3.900000      3.500000      3.4000  \n",
              "interest_rates        mean      0.080000      1.683333      4.9630  \n",
              "                      max       0.100000      4.100000      5.3300  \n",
              "                      min       0.060000      0.080000      4.3300  \n",
              "income                mean  17138.716667  16117.050000  16763.0200  \n",
              "                      max   20422.600000  16265.100000  16848.7000  \n",
              "                      min   16418.500000  15963.400000  16601.9000  \n",
              "home_price_index      mean    260.045667    298.486750    303.8848  \n",
              "                      max     281.342000    304.724000    311.1750  \n",
              "                      min     239.560000    285.924000    297.0300  \n",
              "per_capita_gdp        mean  64412.500000  65414.500000  66558.9000  \n",
              "                      max   65651.000000  65783.000000  67083.0000  \n",
              "                      min   63227.000000  65127.000000  66078.0000  \n",
              "urban_population      mean     82.873000     83.084000     83.0840  \n",
              "                      max      82.873000     83.084000     83.0840  \n",
              "                      min      82.873000     83.084000     83.0840  "
            ],
            "text/html": [
              "\n",
              "  <div id=\"df-827c5276-927c-4557-bf01-8d8c6ac4146f\" class=\"colab-df-container\">\n",
              "    <div>\n",
              "<style scoped>\n",
              "    .dataframe tbody tr th:only-of-type {\n",
              "        vertical-align: middle;\n",
              "    }\n",
              "\n",
              "    .dataframe tbody tr th {\n",
              "        vertical-align: top;\n",
              "    }\n",
              "\n",
              "    .dataframe thead th {\n",
              "        text-align: right;\n",
              "    }\n",
              "</style>\n",
              "<table border=\"1\" class=\"dataframe\">\n",
              "  <thead>\n",
              "    <tr style=\"text-align: right;\">\n",
              "      <th></th>\n",
              "      <th>year</th>\n",
              "      <th>2003</th>\n",
              "      <th>2004</th>\n",
              "      <th>2005</th>\n",
              "      <th>2006</th>\n",
              "      <th>2007</th>\n",
              "      <th>2008</th>\n",
              "      <th>2009</th>\n",
              "      <th>2010</th>\n",
              "      <th>2011</th>\n",
              "      <th>2012</th>\n",
              "      <th>2013</th>\n",
              "      <th>2014</th>\n",
              "      <th>2015</th>\n",
              "      <th>2016</th>\n",
              "      <th>2017</th>\n",
              "      <th>2018</th>\n",
              "      <th>2019</th>\n",
              "      <th>2020</th>\n",
              "      <th>2021</th>\n",
              "      <th>2022</th>\n",
              "      <th>2023</th>\n",
              "    </tr>\n",
              "  </thead>\n",
              "  <tbody>\n",
              "    <tr>\n",
              "      <th rowspan=\"3\" valign=\"top\">new_constructed_units</th>\n",
              "      <th>mean</th>\n",
              "      <td>1676.750000</td>\n",
              "      <td>1834.583333</td>\n",
              "      <td>1929.333333</td>\n",
              "      <td>1989.000000</td>\n",
              "      <td>1513.833333</td>\n",
              "      <td>1126.833333</td>\n",
              "      <td>795.500000</td>\n",
              "      <td>653.750000</td>\n",
              "      <td>584.583333</td>\n",
              "      <td>641.416667</td>\n",
              "      <td>763.166667</td>\n",
              "      <td>882.666667</td>\n",
              "      <td>965.25000</td>\n",
              "      <td>1060.5000</td>\n",
              "      <td>1151.833333</td>\n",
              "      <td>1190.000000</td>\n",
              "      <td>1260.666667</td>\n",
              "      <td>1286.333333</td>\n",
              "      <td>1340.666667</td>\n",
              "      <td>1387.666667</td>\n",
              "      <td>1451.6000</td>\n",
              "    </tr>\n",
              "    <tr>\n",
              "      <th>max</th>\n",
              "      <td>1733.000000</td>\n",
              "      <td>1938.000000</td>\n",
              "      <td>2103.000000</td>\n",
              "      <td>2245.000000</td>\n",
              "      <td>1822.000000</td>\n",
              "      <td>1331.000000</td>\n",
              "      <td>846.000000</td>\n",
              "      <td>894.000000</td>\n",
              "      <td>634.000000</td>\n",
              "      <td>730.000000</td>\n",
              "      <td>839.000000</td>\n",
              "      <td>975.000000</td>\n",
              "      <td>1040.00000</td>\n",
              "      <td>1244.0000</td>\n",
              "      <td>1236.000000</td>\n",
              "      <td>1288.000000</td>\n",
              "      <td>1334.000000</td>\n",
              "      <td>1446.000000</td>\n",
              "      <td>1459.000000</td>\n",
              "      <td>1543.000000</td>\n",
              "      <td>1577.0000</td>\n",
              "    </tr>\n",
              "    <tr>\n",
              "      <th>min</th>\n",
              "      <td>1570.000000</td>\n",
              "      <td>1709.000000</td>\n",
              "      <td>1787.000000</td>\n",
              "      <td>1877.000000</td>\n",
              "      <td>1328.000000</td>\n",
              "      <td>1017.000000</td>\n",
              "      <td>721.000000</td>\n",
              "      <td>552.000000</td>\n",
              "      <td>520.000000</td>\n",
              "      <td>545.000000</td>\n",
              "      <td>708.000000</td>\n",
              "      <td>800.000000</td>\n",
              "      <td>781.00000</td>\n",
              "      <td>945.0000</td>\n",
              "      <td>1069.000000</td>\n",
              "      <td>1053.000000</td>\n",
              "      <td>1150.000000</td>\n",
              "      <td>1171.000000</td>\n",
              "      <td>1232.000000</td>\n",
              "      <td>1256.000000</td>\n",
              "      <td>1334.0000</td>\n",
              "    </tr>\n",
              "    <tr>\n",
              "      <th rowspan=\"3\" valign=\"top\">unemployment_rate</th>\n",
              "      <th>mean</th>\n",
              "      <td>5.991667</td>\n",
              "      <td>5.541667</td>\n",
              "      <td>5.083333</td>\n",
              "      <td>4.608333</td>\n",
              "      <td>4.616667</td>\n",
              "      <td>5.800000</td>\n",
              "      <td>9.283333</td>\n",
              "      <td>9.608333</td>\n",
              "      <td>8.933333</td>\n",
              "      <td>8.075000</td>\n",
              "      <td>7.358333</td>\n",
              "      <td>6.158333</td>\n",
              "      <td>5.27500</td>\n",
              "      <td>4.8750</td>\n",
              "      <td>4.358333</td>\n",
              "      <td>3.891667</td>\n",
              "      <td>3.683333</td>\n",
              "      <td>8.091667</td>\n",
              "      <td>5.366667</td>\n",
              "      <td>3.641667</td>\n",
              "      <td>3.6200</td>\n",
              "    </tr>\n",
              "    <tr>\n",
              "      <th>max</th>\n",
              "      <td>6.300000</td>\n",
              "      <td>5.800000</td>\n",
              "      <td>5.400000</td>\n",
              "      <td>4.800000</td>\n",
              "      <td>5.000000</td>\n",
              "      <td>7.300000</td>\n",
              "      <td>10.000000</td>\n",
              "      <td>9.900000</td>\n",
              "      <td>9.100000</td>\n",
              "      <td>8.300000</td>\n",
              "      <td>8.000000</td>\n",
              "      <td>6.700000</td>\n",
              "      <td>5.70000</td>\n",
              "      <td>5.1000</td>\n",
              "      <td>4.700000</td>\n",
              "      <td>4.100000</td>\n",
              "      <td>4.000000</td>\n",
              "      <td>14.700000</td>\n",
              "      <td>6.300000</td>\n",
              "      <td>4.000000</td>\n",
              "      <td>3.9000</td>\n",
              "    </tr>\n",
              "    <tr>\n",
              "      <th>min</th>\n",
              "      <td>5.700000</td>\n",
              "      <td>5.400000</td>\n",
              "      <td>4.900000</td>\n",
              "      <td>4.400000</td>\n",
              "      <td>4.400000</td>\n",
              "      <td>4.900000</td>\n",
              "      <td>7.800000</td>\n",
              "      <td>9.300000</td>\n",
              "      <td>8.500000</td>\n",
              "      <td>7.700000</td>\n",
              "      <td>6.700000</td>\n",
              "      <td>5.600000</td>\n",
              "      <td>5.00000</td>\n",
              "      <td>4.7000</td>\n",
              "      <td>4.100000</td>\n",
              "      <td>3.700000</td>\n",
              "      <td>3.500000</td>\n",
              "      <td>3.500000</td>\n",
              "      <td>3.900000</td>\n",
              "      <td>3.500000</td>\n",
              "      <td>3.4000</td>\n",
              "    </tr>\n",
              "    <tr>\n",
              "      <th rowspan=\"3\" valign=\"top\">interest_rates</th>\n",
              "      <th>mean</th>\n",
              "      <td>1.127500</td>\n",
              "      <td>1.349167</td>\n",
              "      <td>3.213333</td>\n",
              "      <td>4.964167</td>\n",
              "      <td>5.019167</td>\n",
              "      <td>1.927500</td>\n",
              "      <td>0.160000</td>\n",
              "      <td>0.175000</td>\n",
              "      <td>0.101667</td>\n",
              "      <td>0.140000</td>\n",
              "      <td>0.107500</td>\n",
              "      <td>0.089167</td>\n",
              "      <td>0.13250</td>\n",
              "      <td>0.3950</td>\n",
              "      <td>1.001667</td>\n",
              "      <td>1.831667</td>\n",
              "      <td>2.158333</td>\n",
              "      <td>0.375833</td>\n",
              "      <td>0.080000</td>\n",
              "      <td>1.683333</td>\n",
              "      <td>4.9630</td>\n",
              "    </tr>\n",
              "    <tr>\n",
              "      <th>max</th>\n",
              "      <td>1.260000</td>\n",
              "      <td>2.160000</td>\n",
              "      <td>4.160000</td>\n",
              "      <td>5.250000</td>\n",
              "      <td>5.260000</td>\n",
              "      <td>3.940000</td>\n",
              "      <td>0.220000</td>\n",
              "      <td>0.200000</td>\n",
              "      <td>0.170000</td>\n",
              "      <td>0.160000</td>\n",
              "      <td>0.150000</td>\n",
              "      <td>0.120000</td>\n",
              "      <td>0.24000</td>\n",
              "      <td>0.5400</td>\n",
              "      <td>1.300000</td>\n",
              "      <td>2.270000</td>\n",
              "      <td>2.420000</td>\n",
              "      <td>1.580000</td>\n",
              "      <td>0.100000</td>\n",
              "      <td>4.100000</td>\n",
              "      <td>5.3300</td>\n",
              "    </tr>\n",
              "    <tr>\n",
              "      <th>min</th>\n",
              "      <td>0.980000</td>\n",
              "      <td>1.000000</td>\n",
              "      <td>2.280000</td>\n",
              "      <td>4.290000</td>\n",
              "      <td>4.240000</td>\n",
              "      <td>0.160000</td>\n",
              "      <td>0.120000</td>\n",
              "      <td>0.110000</td>\n",
              "      <td>0.070000</td>\n",
              "      <td>0.080000</td>\n",
              "      <td>0.080000</td>\n",
              "      <td>0.070000</td>\n",
              "      <td>0.11000</td>\n",
              "      <td>0.3400</td>\n",
              "      <td>0.650000</td>\n",
              "      <td>1.410000</td>\n",
              "      <td>1.550000</td>\n",
              "      <td>0.050000</td>\n",
              "      <td>0.060000</td>\n",
              "      <td>0.080000</td>\n",
              "      <td>4.3300</td>\n",
              "    </tr>\n",
              "    <tr>\n",
              "      <th rowspan=\"3\" valign=\"top\">income</th>\n",
              "      <th>mean</th>\n",
              "      <td>10884.391667</td>\n",
              "      <td>11233.175000</td>\n",
              "      <td>11364.858333</td>\n",
              "      <td>11777.783333</td>\n",
              "      <td>12054.300000</td>\n",
              "      <td>12244.325000</td>\n",
              "      <td>12273.441667</td>\n",
              "      <td>12505.291667</td>\n",
              "      <td>12775.250000</td>\n",
              "      <td>13125.383333</td>\n",
              "      <td>12937.191667</td>\n",
              "      <td>13383.675000</td>\n",
              "      <td>13908.57500</td>\n",
              "      <td>14172.2500</td>\n",
              "      <td>14613.966667</td>\n",
              "      <td>15143.616667</td>\n",
              "      <td>15608.908333</td>\n",
              "      <td>16607.466667</td>\n",
              "      <td>17138.716667</td>\n",
              "      <td>16117.050000</td>\n",
              "      <td>16763.0200</td>\n",
              "    </tr>\n",
              "    <tr>\n",
              "      <th>max</th>\n",
              "      <td>11066.700000</td>\n",
              "      <td>11659.000000</td>\n",
              "      <td>11535.200000</td>\n",
              "      <td>11958.600000</td>\n",
              "      <td>12120.500000</td>\n",
              "      <td>12696.200000</td>\n",
              "      <td>12500.100000</td>\n",
              "      <td>12680.600000</td>\n",
              "      <td>12898.500000</td>\n",
              "      <td>13642.700000</td>\n",
              "      <td>13027.500000</td>\n",
              "      <td>13719.100000</td>\n",
              "      <td>14060.20000</td>\n",
              "      <td>14313.7000</td>\n",
              "      <td>14797.900000</td>\n",
              "      <td>15506.500000</td>\n",
              "      <td>15778.200000</td>\n",
              "      <td>18020.200000</td>\n",
              "      <td>20422.600000</td>\n",
              "      <td>16265.100000</td>\n",
              "      <td>16848.7000</td>\n",
              "    </tr>\n",
              "    <tr>\n",
              "      <th>min</th>\n",
              "      <td>10674.000000</td>\n",
              "      <td>11051.200000</td>\n",
              "      <td>11226.500000</td>\n",
              "      <td>11651.800000</td>\n",
              "      <td>11956.600000</td>\n",
              "      <td>12100.800000</td>\n",
              "      <td>12193.200000</td>\n",
              "      <td>12285.800000</td>\n",
              "      <td>12705.300000</td>\n",
              "      <td>12961.600000</td>\n",
              "      <td>12813.900000</td>\n",
              "      <td>13079.500000</td>\n",
              "      <td>13797.70000</td>\n",
              "      <td>14095.5000</td>\n",
              "      <td>14373.700000</td>\n",
              "      <td>14886.600000</td>\n",
              "      <td>15501.700000</td>\n",
              "      <td>15696.300000</td>\n",
              "      <td>16418.500000</td>\n",
              "      <td>15963.400000</td>\n",
              "      <td>16601.9000</td>\n",
              "    </tr>\n",
              "    <tr>\n",
              "      <th rowspan=\"3\" valign=\"top\">home_price_index</th>\n",
              "      <th>mean</th>\n",
              "      <td>133.731333</td>\n",
              "      <td>150.440250</td>\n",
              "      <td>171.737000</td>\n",
              "      <td>183.447500</td>\n",
              "      <td>179.918917</td>\n",
              "      <td>164.057417</td>\n",
              "      <td>148.545083</td>\n",
              "      <td>144.674500</td>\n",
              "      <td>139.259500</td>\n",
              "      <td>140.993833</td>\n",
              "      <td>154.520750</td>\n",
              "      <td>164.698167</td>\n",
              "      <td>172.18175</td>\n",
              "      <td>180.9255</td>\n",
              "      <td>191.397667</td>\n",
              "      <td>202.476417</td>\n",
              "      <td>209.463333</td>\n",
              "      <td>222.143417</td>\n",
              "      <td>260.045667</td>\n",
              "      <td>298.486750</td>\n",
              "      <td>303.8848</td>\n",
              "    </tr>\n",
              "    <tr>\n",
              "      <th>max</th>\n",
              "      <td>140.179000</td>\n",
              "      <td>159.330000</td>\n",
              "      <td>180.910000</td>\n",
              "      <td>184.364000</td>\n",
              "      <td>184.598000</td>\n",
              "      <td>173.132000</td>\n",
              "      <td>151.507000</td>\n",
              "      <td>147.396000</td>\n",
              "      <td>141.521000</td>\n",
              "      <td>145.503000</td>\n",
              "      <td>160.994000</td>\n",
              "      <td>168.050000</td>\n",
              "      <td>176.54300</td>\n",
              "      <td>185.7220</td>\n",
              "      <td>197.172000</td>\n",
              "      <td>206.156000</td>\n",
              "      <td>213.933000</td>\n",
              "      <td>236.486000</td>\n",
              "      <td>281.342000</td>\n",
              "      <td>304.724000</td>\n",
              "      <td>311.1750</td>\n",
              "    </tr>\n",
              "    <tr>\n",
              "      <th>min</th>\n",
              "      <td>128.461000</td>\n",
              "      <td>141.646000</td>\n",
              "      <td>161.288000</td>\n",
              "      <td>182.321000</td>\n",
              "      <td>174.342000</td>\n",
              "      <td>153.619000</td>\n",
              "      <td>147.694000</td>\n",
              "      <td>142.060000</td>\n",
              "      <td>136.674000</td>\n",
              "      <td>136.533000</td>\n",
              "      <td>146.827000</td>\n",
              "      <td>161.927000</td>\n",
              "      <td>168.63400</td>\n",
              "      <td>177.2740</td>\n",
              "      <td>186.805000</td>\n",
              "      <td>198.315000</td>\n",
              "      <td>206.539000</td>\n",
              "      <td>214.994000</td>\n",
              "      <td>239.560000</td>\n",
              "      <td>285.924000</td>\n",
              "      <td>297.0300</td>\n",
              "    </tr>\n",
              "    <tr>\n",
              "      <th rowspan=\"3\" valign=\"top\">per_capita_gdp</th>\n",
              "      <th>mean</th>\n",
              "      <td>51189.000000</td>\n",
              "      <td>52681.250000</td>\n",
              "      <td>54014.250000</td>\n",
              "      <td>54993.500000</td>\n",
              "      <td>55560.000000</td>\n",
              "      <td>55105.250000</td>\n",
              "      <td>53212.500000</td>\n",
              "      <td>54188.250000</td>\n",
              "      <td>54603.000000</td>\n",
              "      <td>55422.250000</td>\n",
              "      <td>56171.750000</td>\n",
              "      <td>57137.750000</td>\n",
              "      <td>58363.25000</td>\n",
              "      <td>58967.7500</td>\n",
              "      <td>60000.750000</td>\n",
              "      <td>61417.500000</td>\n",
              "      <td>62605.500000</td>\n",
              "      <td>60984.750000</td>\n",
              "      <td>64412.500000</td>\n",
              "      <td>65414.500000</td>\n",
              "      <td>66558.9000</td>\n",
              "    </tr>\n",
              "    <tr>\n",
              "      <th>max</th>\n",
              "      <td>51986.000000</td>\n",
              "      <td>53242.000000</td>\n",
              "      <td>54317.000000</td>\n",
              "      <td>55216.000000</td>\n",
              "      <td>55857.000000</td>\n",
              "      <td>55705.000000</td>\n",
              "      <td>53531.000000</td>\n",
              "      <td>54569.000000</td>\n",
              "      <td>54979.000000</td>\n",
              "      <td>55490.000000</td>\n",
              "      <td>56642.000000</td>\n",
              "      <td>57702.000000</td>\n",
              "      <td>58486.00000</td>\n",
              "      <td>59296.0000</td>\n",
              "      <td>60674.000000</td>\n",
              "      <td>61622.000000</td>\n",
              "      <td>63257.000000</td>\n",
              "      <td>62414.000000</td>\n",
              "      <td>65651.000000</td>\n",
              "      <td>65783.000000</td>\n",
              "      <td>67083.0000</td>\n",
              "    </tr>\n",
              "    <tr>\n",
              "      <th>min</th>\n",
              "      <td>50462.000000</td>\n",
              "      <td>52179.000000</td>\n",
              "      <td>53719.000000</td>\n",
              "      <td>54886.000000</td>\n",
              "      <td>55260.000000</td>\n",
              "      <td>53941.000000</td>\n",
              "      <td>53017.000000</td>\n",
              "      <td>53683.000000</td>\n",
              "      <td>54341.000000</td>\n",
              "      <td>55342.000000</td>\n",
              "      <td>55859.000000</td>\n",
              "      <td>56345.000000</td>\n",
              "      <td>58121.00000</td>\n",
              "      <td>58704.0000</td>\n",
              "      <td>59494.000000</td>\n",
              "      <td>61093.000000</td>\n",
              "      <td>61889.000000</td>\n",
              "      <td>57386.000000</td>\n",
              "      <td>63227.000000</td>\n",
              "      <td>65127.000000</td>\n",
              "      <td>66078.0000</td>\n",
              "    </tr>\n",
              "    <tr>\n",
              "      <th rowspan=\"3\" valign=\"top\">urban_population</th>\n",
              "      <th>mean</th>\n",
              "      <td>79.583000</td>\n",
              "      <td>79.757000</td>\n",
              "      <td>79.928000</td>\n",
              "      <td>80.099000</td>\n",
              "      <td>80.269000</td>\n",
              "      <td>80.438000</td>\n",
              "      <td>80.606000</td>\n",
              "      <td>80.772000</td>\n",
              "      <td>80.944000</td>\n",
              "      <td>81.119000</td>\n",
              "      <td>81.299000</td>\n",
              "      <td>81.483000</td>\n",
              "      <td>81.67100</td>\n",
              "      <td>81.8620</td>\n",
              "      <td>82.058000</td>\n",
              "      <td>82.256000</td>\n",
              "      <td>82.459000</td>\n",
              "      <td>82.664000</td>\n",
              "      <td>82.873000</td>\n",
              "      <td>83.084000</td>\n",
              "      <td>83.0840</td>\n",
              "    </tr>\n",
              "    <tr>\n",
              "      <th>max</th>\n",
              "      <td>79.583000</td>\n",
              "      <td>79.757000</td>\n",
              "      <td>79.928000</td>\n",
              "      <td>80.099000</td>\n",
              "      <td>80.269000</td>\n",
              "      <td>80.438000</td>\n",
              "      <td>80.606000</td>\n",
              "      <td>80.772000</td>\n",
              "      <td>80.944000</td>\n",
              "      <td>81.119000</td>\n",
              "      <td>81.299000</td>\n",
              "      <td>81.483000</td>\n",
              "      <td>81.67100</td>\n",
              "      <td>81.8620</td>\n",
              "      <td>82.058000</td>\n",
              "      <td>82.256000</td>\n",
              "      <td>82.459000</td>\n",
              "      <td>82.664000</td>\n",
              "      <td>82.873000</td>\n",
              "      <td>83.084000</td>\n",
              "      <td>83.0840</td>\n",
              "    </tr>\n",
              "    <tr>\n",
              "      <th>min</th>\n",
              "      <td>79.583000</td>\n",
              "      <td>79.757000</td>\n",
              "      <td>79.928000</td>\n",
              "      <td>80.099000</td>\n",
              "      <td>80.269000</td>\n",
              "      <td>80.438000</td>\n",
              "      <td>80.606000</td>\n",
              "      <td>80.772000</td>\n",
              "      <td>80.944000</td>\n",
              "      <td>81.119000</td>\n",
              "      <td>81.299000</td>\n",
              "      <td>81.483000</td>\n",
              "      <td>81.67100</td>\n",
              "      <td>81.8620</td>\n",
              "      <td>82.058000</td>\n",
              "      <td>82.256000</td>\n",
              "      <td>82.459000</td>\n",
              "      <td>82.664000</td>\n",
              "      <td>82.873000</td>\n",
              "      <td>83.084000</td>\n",
              "      <td>83.0840</td>\n",
              "    </tr>\n",
              "  </tbody>\n",
              "</table>\n",
              "</div>\n",
              "    <div class=\"colab-df-buttons\">\n",
              "\n",
              "  <div class=\"colab-df-container\">\n",
              "    <button class=\"colab-df-convert\" onclick=\"convertToInteractive('df-827c5276-927c-4557-bf01-8d8c6ac4146f')\"\n",
              "            title=\"Convert this dataframe to an interactive table.\"\n",
              "            style=\"display:none;\">\n",
              "\n",
              "  <svg xmlns=\"http://www.w3.org/2000/svg\" height=\"24px\" viewBox=\"0 -960 960 960\">\n",
              "    <path d=\"M120-120v-720h720v720H120Zm60-500h600v-160H180v160Zm220 220h160v-160H400v160Zm0 220h160v-160H400v160ZM180-400h160v-160H180v160Zm440 0h160v-160H620v160ZM180-180h160v-160H180v160Zm440 0h160v-160H620v160Z\"/>\n",
              "  </svg>\n",
              "    </button>\n",
              "\n",
              "  <style>\n",
              "    .colab-df-container {\n",
              "      display:flex;\n",
              "      gap: 12px;\n",
              "    }\n",
              "\n",
              "    .colab-df-convert {\n",
              "      background-color: #E8F0FE;\n",
              "      border: none;\n",
              "      border-radius: 50%;\n",
              "      cursor: pointer;\n",
              "      display: none;\n",
              "      fill: #1967D2;\n",
              "      height: 32px;\n",
              "      padding: 0 0 0 0;\n",
              "      width: 32px;\n",
              "    }\n",
              "\n",
              "    .colab-df-convert:hover {\n",
              "      background-color: #E2EBFA;\n",
              "      box-shadow: 0px 1px 2px rgba(60, 64, 67, 0.3), 0px 1px 3px 1px rgba(60, 64, 67, 0.15);\n",
              "      fill: #174EA6;\n",
              "    }\n",
              "\n",
              "    .colab-df-buttons div {\n",
              "      margin-bottom: 4px;\n",
              "    }\n",
              "\n",
              "    [theme=dark] .colab-df-convert {\n",
              "      background-color: #3B4455;\n",
              "      fill: #D2E3FC;\n",
              "    }\n",
              "\n",
              "    [theme=dark] .colab-df-convert:hover {\n",
              "      background-color: #434B5C;\n",
              "      box-shadow: 0px 1px 3px 1px rgba(0, 0, 0, 0.15);\n",
              "      filter: drop-shadow(0px 1px 2px rgba(0, 0, 0, 0.3));\n",
              "      fill: #FFFFFF;\n",
              "    }\n",
              "  </style>\n",
              "\n",
              "    <script>\n",
              "      const buttonEl =\n",
              "        document.querySelector('#df-827c5276-927c-4557-bf01-8d8c6ac4146f button.colab-df-convert');\n",
              "      buttonEl.style.display =\n",
              "        google.colab.kernel.accessAllowed ? 'block' : 'none';\n",
              "\n",
              "      async function convertToInteractive(key) {\n",
              "        const element = document.querySelector('#df-827c5276-927c-4557-bf01-8d8c6ac4146f');\n",
              "        const dataTable =\n",
              "          await google.colab.kernel.invokeFunction('convertToInteractive',\n",
              "                                                    [key], {});\n",
              "        if (!dataTable) return;\n",
              "\n",
              "        const docLinkHtml = 'Like what you see? Visit the ' +\n",
              "          '<a target=\"_blank\" href=https://colab.research.google.com/notebooks/data_table.ipynb>data table notebook</a>'\n",
              "          + ' to learn more about interactive tables.';\n",
              "        element.innerHTML = '';\n",
              "        dataTable['output_type'] = 'display_data';\n",
              "        await google.colab.output.renderOutput(dataTable, element);\n",
              "        const docLink = document.createElement('div');\n",
              "        docLink.innerHTML = docLinkHtml;\n",
              "        element.appendChild(docLink);\n",
              "      }\n",
              "    </script>\n",
              "  </div>\n",
              "\n",
              "\n",
              "<div id=\"df-893ae685-8516-4d82-a850-c0efd90df829\">\n",
              "  <button class=\"colab-df-quickchart\" onclick=\"quickchart('df-893ae685-8516-4d82-a850-c0efd90df829')\"\n",
              "            title=\"Suggest charts\"\n",
              "            style=\"display:none;\">\n",
              "\n",
              "<svg xmlns=\"http://www.w3.org/2000/svg\" height=\"24px\"viewBox=\"0 0 24 24\"\n",
              "     width=\"24px\">\n",
              "    <g>\n",
              "        <path d=\"M19 3H5c-1.1 0-2 .9-2 2v14c0 1.1.9 2 2 2h14c1.1 0 2-.9 2-2V5c0-1.1-.9-2-2-2zM9 17H7v-7h2v7zm4 0h-2V7h2v10zm4 0h-2v-4h2v4z\"/>\n",
              "    </g>\n",
              "</svg>\n",
              "  </button>\n",
              "\n",
              "<style>\n",
              "  .colab-df-quickchart {\n",
              "      --bg-color: #E8F0FE;\n",
              "      --fill-color: #1967D2;\n",
              "      --hover-bg-color: #E2EBFA;\n",
              "      --hover-fill-color: #174EA6;\n",
              "      --disabled-fill-color: #AAA;\n",
              "      --disabled-bg-color: #DDD;\n",
              "  }\n",
              "\n",
              "  [theme=dark] .colab-df-quickchart {\n",
              "      --bg-color: #3B4455;\n",
              "      --fill-color: #D2E3FC;\n",
              "      --hover-bg-color: #434B5C;\n",
              "      --hover-fill-color: #FFFFFF;\n",
              "      --disabled-bg-color: #3B4455;\n",
              "      --disabled-fill-color: #666;\n",
              "  }\n",
              "\n",
              "  .colab-df-quickchart {\n",
              "    background-color: var(--bg-color);\n",
              "    border: none;\n",
              "    border-radius: 50%;\n",
              "    cursor: pointer;\n",
              "    display: none;\n",
              "    fill: var(--fill-color);\n",
              "    height: 32px;\n",
              "    padding: 0;\n",
              "    width: 32px;\n",
              "  }\n",
              "\n",
              "  .colab-df-quickchart:hover {\n",
              "    background-color: var(--hover-bg-color);\n",
              "    box-shadow: 0 1px 2px rgba(60, 64, 67, 0.3), 0 1px 3px 1px rgba(60, 64, 67, 0.15);\n",
              "    fill: var(--button-hover-fill-color);\n",
              "  }\n",
              "\n",
              "  .colab-df-quickchart-complete:disabled,\n",
              "  .colab-df-quickchart-complete:disabled:hover {\n",
              "    background-color: var(--disabled-bg-color);\n",
              "    fill: var(--disabled-fill-color);\n",
              "    box-shadow: none;\n",
              "  }\n",
              "\n",
              "  .colab-df-spinner {\n",
              "    border: 2px solid var(--fill-color);\n",
              "    border-color: transparent;\n",
              "    border-bottom-color: var(--fill-color);\n",
              "    animation:\n",
              "      spin 1s steps(1) infinite;\n",
              "  }\n",
              "\n",
              "  @keyframes spin {\n",
              "    0% {\n",
              "      border-color: transparent;\n",
              "      border-bottom-color: var(--fill-color);\n",
              "      border-left-color: var(--fill-color);\n",
              "    }\n",
              "    20% {\n",
              "      border-color: transparent;\n",
              "      border-left-color: var(--fill-color);\n",
              "      border-top-color: var(--fill-color);\n",
              "    }\n",
              "    30% {\n",
              "      border-color: transparent;\n",
              "      border-left-color: var(--fill-color);\n",
              "      border-top-color: var(--fill-color);\n",
              "      border-right-color: var(--fill-color);\n",
              "    }\n",
              "    40% {\n",
              "      border-color: transparent;\n",
              "      border-right-color: var(--fill-color);\n",
              "      border-top-color: var(--fill-color);\n",
              "    }\n",
              "    60% {\n",
              "      border-color: transparent;\n",
              "      border-right-color: var(--fill-color);\n",
              "    }\n",
              "    80% {\n",
              "      border-color: transparent;\n",
              "      border-right-color: var(--fill-color);\n",
              "      border-bottom-color: var(--fill-color);\n",
              "    }\n",
              "    90% {\n",
              "      border-color: transparent;\n",
              "      border-bottom-color: var(--fill-color);\n",
              "    }\n",
              "  }\n",
              "</style>\n",
              "\n",
              "  <script>\n",
              "    async function quickchart(key) {\n",
              "      const quickchartButtonEl =\n",
              "        document.querySelector('#' + key + ' button');\n",
              "      quickchartButtonEl.disabled = true;  // To prevent multiple clicks.\n",
              "      quickchartButtonEl.classList.add('colab-df-spinner');\n",
              "      try {\n",
              "        const charts = await google.colab.kernel.invokeFunction(\n",
              "            'suggestCharts', [key], {});\n",
              "      } catch (error) {\n",
              "        console.error('Error during call to suggestCharts:', error);\n",
              "      }\n",
              "      quickchartButtonEl.classList.remove('colab-df-spinner');\n",
              "      quickchartButtonEl.classList.add('colab-df-quickchart-complete');\n",
              "    }\n",
              "    (() => {\n",
              "      let quickchartButtonEl =\n",
              "        document.querySelector('#df-893ae685-8516-4d82-a850-c0efd90df829 button');\n",
              "      quickchartButtonEl.style.display =\n",
              "        google.colab.kernel.accessAllowed ? 'block' : 'none';\n",
              "    })();\n",
              "  </script>\n",
              "</div>\n",
              "    </div>\n",
              "  </div>\n"
            ]
          },
          "metadata": {},
          "execution_count": 20
        }
      ]
    },
    {
      "cell_type": "markdown",
      "source": [
        "\n",
        "\n",
        "1.  The number of new constructed units has generally increased over the years, with a noticeable peak in 2005 and a subsequent decline until around 2009.\n",
        "2.  The unemployment rate shows a pattern of decrease from 2003 to 2007, followed by a significant increase during the 2008 financial crisis.\n",
        "3.  Interest rates have experienced a general decline over the years, reaching a minimum around 2009.\n",
        "4.  The maximum income has consistently increased, reflecting overall economic growth.\n",
        "\n"
      ],
      "metadata": {
        "id": "v-pMaFu2CD0k"
      }
    },
    {
      "cell_type": "markdown",
      "source": [
        "# **Exploratory data analysis (EDA)**"
      ],
      "metadata": {
        "id": "bsxES7InarCC"
      }
    },
    {
      "cell_type": "code",
      "source": [
        "cols =  ['new_constructed_units','unemployment_rate','interest_rates',\n",
        "         'income','per_capita_gdp','urban_population']"
      ],
      "metadata": {
        "id": "e94Q0jalHwHT"
      },
      "execution_count": 21,
      "outputs": []
    },
    {
      "cell_type": "code",
      "source": [
        "fig = plt.figure(figsize = (60,60))\n",
        "\n",
        "gs = fig.add_gridspec(15,15)\n",
        "\n",
        "gs.update(wspace = 0.25,hspace = 0.25)\n",
        "\n",
        "ax0 = fig.add_subplot(gs[0,0],)\n",
        "ax1 = fig.add_subplot(gs[0,1])\n",
        "ax2 = fig.add_subplot(gs[0,2])\n",
        "ax3 = fig.add_subplot(gs[1,0])\n",
        "ax4 = fig.add_subplot(gs[1,1])\n",
        "ax5 = fig.add_subplot(gs[1,2])\n",
        "\n",
        "Axis = [ax0,ax1,ax2,ax3,ax4,ax5]\n",
        "\n",
        "for ax,col in zip(Axis,cols):\n",
        "    sns.boxplot(ax = ax,data = df_20, x = col)\n",
        "plt.show()"
      ],
      "metadata": {
        "colab": {
          "base_uri": "https://localhost:8080/",
          "height": 642
        },
        "id": "S4MQZZrzIcRZ",
        "outputId": "0b8cedeb-c9c3-4f70-c863-d4fa1d216ad5"
      },
      "execution_count": 22,
      "outputs": [
        {
          "output_type": "display_data",
          "data": {
            "text/plain": [
              "<Figure size 6000x6000 with 6 Axes>"
            ],
            "image/png": "[encoded data removed]"
          },
          "metadata": {}
        }
      ]
    },
    {
      "cell_type": "markdown",
      "source": [
        "1. Income has 1 outliers greater than upper bound (19853.34) or lower than lower bound(7509.24). Cap them or remove them.\n",
        "2. Unemployement Rate has 3 outliers greater than upper bound (11.40) or lower than lower bound(0.20). Cap them or remove them.\n",
        "\n",
        "So below we are calculating the IQR and on the basis of lower and Upper limit we are capping the outliers."
      ],
      "metadata": {
        "id": "Y4hDxtnOfG69"
      }
    },
    {
      "cell_type": "code",
      "source": [
        "sns.boxplot(data=df_20, x= 'income')"
      ],
      "metadata": {
        "colab": {
          "base_uri": "https://localhost:8080/",
          "height": 466
        },
        "id": "e-721k7ulYWK",
        "outputId": "4f71ef06-93a0-473e-8b5c-128176d6f628"
      },
      "execution_count": 23,
      "outputs": [
        {
          "output_type": "execute_result",
          "data": {
            "text/plain": [
              "<Axes: xlabel='income'>"
            ]
          },
          "metadata": {},
          "execution_count": 23
        },
        {
          "output_type": "display_data",
          "data": {
            "text/plain": [
              "<Figure size 640x480 with 1 Axes>"
            ],
            "image/png": "[encoded data removed]"
          },
          "metadata": {}
        }
      ]
    },
    {
      "cell_type": "code",
      "source": [
        "q1_income = df_20['income'].quantile(0.25)\n",
        "q3_income = df_20['income'].quantile(0.75)\n",
        "income_IQR = q3_income - q1_income\n",
        "\n",
        "upper_limit_income = q3_income + 1.5 * income_IQR\n",
        "lower_limit_income = q1_income - 1.5 * income_IQR\n",
        "\n",
        "print(upper_limit_income)\n",
        "print(lower_limit_income)"
      ],
      "metadata": {
        "colab": {
          "base_uri": "https://localhost:8080/"
        },
        "id": "TWTbyTSGfqJT",
        "outputId": "22dd6ac8-edb4-4351-ae78-cd73696485cf"
      },
      "execution_count": 24,
      "outputs": [
        {
          "output_type": "stream",
          "name": "stdout",
          "text": [
            "19853.337499999998\n",
            "7509.2375\n"
          ]
        }
      ]
    },
    {
      "cell_type": "code",
      "source": [
        "df_20['income'] = df_20['income'].clip(lower=lower_limit_income, upper=upper_limit_income)"
      ],
      "metadata": {
        "colab": {
          "base_uri": "https://localhost:8080/"
        },
        "id": "5UQqI2K-iXRp",
        "outputId": "6cc0b7fb-d95a-48cc-c4ab-b1d89a3abe07"
      },
      "execution_count": 25,
      "outputs": [
        {
          "output_type": "stream",
          "name": "stderr",
          "text": [
            "<ipython-input-25-2109b2de28d0>:1: SettingWithCopyWarning: \n",
            "A value is trying to be set on a copy of a slice from a DataFrame.\n",
            "Try using .loc[row_indexer,col_indexer] = value instead\n",
            "\n",
            "See the caveats in the documentation: https://pandas.pydata.org/pandas-docs/stable/user_guide/indexing.html#returning-a-view-versus-a-copy\n",
            "  df_20['income'] = df_20['income'].clip(lower=lower_limit_income, upper=upper_limit_income)\n"
          ]
        }
      ]
    },
    {
      "cell_type": "code",
      "source": [
        "sns.boxplot(data=df_20, x= 'income')"
      ],
      "metadata": {
        "colab": {
          "base_uri": "https://localhost:8080/",
          "height": 466
        },
        "id": "O7okgb19lVMO",
        "outputId": "2ff7bd94-b216-42af-d558-59966d05fb3b"
      },
      "execution_count": 26,
      "outputs": [
        {
          "output_type": "execute_result",
          "data": {
            "text/plain": [
              "<Axes: xlabel='income'>"
            ]
          },
          "metadata": {},
          "execution_count": 26
        },
        {
          "output_type": "display_data",
          "data": {
            "text/plain": [
              "<Figure size 640x480 with 1 Axes>"
            ],
            "image/png": "[encoded data removed]"
          },
          "metadata": {}
        }
      ]
    },
    {
      "cell_type": "markdown",
      "source": [
        "We can see now there are no outliers present in the income data."
      ],
      "metadata": {
        "id": "ln61YbaHlbUf"
      }
    },
    {
      "cell_type": "code",
      "source": [
        "sns.boxplot(data=df_20, x= 'unemployment_rate')"
      ],
      "metadata": {
        "colab": {
          "base_uri": "https://localhost:8080/",
          "height": 467
        },
        "id": "fonJ_ZjlkMeL",
        "outputId": "0402e46f-32a4-46c0-dfa9-7e25e812a94f"
      },
      "execution_count": 27,
      "outputs": [
        {
          "output_type": "execute_result",
          "data": {
            "text/plain": [
              "<Axes: xlabel='unemployment_rate'>"
            ]
          },
          "metadata": {},
          "execution_count": 27
        },
        {
          "output_type": "display_data",
          "data": {
            "text/plain": [
              "<Figure size 640x480 with 1 Axes>"
            ],
            "image/png": "[encoded data removed]"
          },
          "metadata": {}
        }
      ]
    },
    {
      "cell_type": "code",
      "source": [
        "q1_ur = df_20['unemployment_rate'].quantile(0.25)\n",
        "q3_ur = df_20['unemployment_rate'].quantile(0.75)\n",
        "ur_IQR = q3_ur - q1_ur\n",
        "\n",
        "upper_limit_ur = q3_ur + 1.5 * ur_IQR\n",
        "lower_limit_ur = q1_ur - 1.5 * ur_IQR\n",
        "\n",
        "print(upper_limit_ur)\n",
        "print(lower_limit_ur)"
      ],
      "metadata": {
        "colab": {
          "base_uri": "https://localhost:8080/"
        },
        "id": "lu3T-RnTkKYx",
        "outputId": "fa8757fc-e3f1-4631-dedd-c05c4e22d6e5"
      },
      "execution_count": 28,
      "outputs": [
        {
          "output_type": "stream",
          "name": "stdout",
          "text": [
            "11.399999999999999\n",
            "0.20000000000000107\n"
          ]
        }
      ]
    },
    {
      "cell_type": "code",
      "source": [
        "df_20['unemployment_rate'] = df_20['unemployment_rate'].clip(lower=lower_limit_ur, upper=upper_limit_ur)"
      ],
      "metadata": {
        "colab": {
          "base_uri": "https://localhost:8080/"
        },
        "id": "ybZnVHu8kMKP",
        "outputId": "741b23ea-0d57-471a-f1fd-eed4628e7134"
      },
      "execution_count": 29,
      "outputs": [
        {
          "output_type": "stream",
          "name": "stderr",
          "text": [
            "<ipython-input-29-d67fd013cfd2>:1: SettingWithCopyWarning: \n",
            "A value is trying to be set on a copy of a slice from a DataFrame.\n",
            "Try using .loc[row_indexer,col_indexer] = value instead\n",
            "\n",
            "See the caveats in the documentation: https://pandas.pydata.org/pandas-docs/stable/user_guide/indexing.html#returning-a-view-versus-a-copy\n",
            "  df_20['unemployment_rate'] = df_20['unemployment_rate'].clip(lower=lower_limit_ur, upper=upper_limit_ur)\n"
          ]
        }
      ]
    },
    {
      "cell_type": "code",
      "source": [
        "sns.boxplot(data=df_20, x= 'unemployment_rate')"
      ],
      "metadata": {
        "colab": {
          "base_uri": "https://localhost:8080/",
          "height": 467
        },
        "id": "v_ye6nZakzX4",
        "outputId": "00354b83-cf22-43f0-f6b5-cae94a5829b2"
      },
      "execution_count": 30,
      "outputs": [
        {
          "output_type": "execute_result",
          "data": {
            "text/plain": [
              "<Axes: xlabel='unemployment_rate'>"
            ]
          },
          "metadata": {},
          "execution_count": 30
        },
        {
          "output_type": "display_data",
          "data": {
            "text/plain": [
              "<Figure size 640x480 with 1 Axes>"
            ],
            "image/png": "[encoded data removed]"
          },
          "metadata": {}
        }
      ]
    },
    {
      "cell_type": "markdown",
      "source": [
        "We can see now there are no outliers present in the Unemployemt Rate data."
      ],
      "metadata": {
        "id": "OYX7ef7Kll6y"
      }
    },
    {
      "cell_type": "code",
      "source": [
        "plt.figure(figsize = (12,4))\n",
        "plt.plot(df_20['year'], df_20['new_constructed_units'])\n",
        "plt.title(\"New Constructed Units Over Time\")\n",
        "plt.xticks(df_20['year'].unique(), rotation=45, ha=\"right\")\n",
        "plt.show()"
      ],
      "metadata": {
        "colab": {
          "base_uri": "https://localhost:8080/",
          "height": 411
        },
        "id": "Wj3tQpk7JwoG",
        "outputId": "a4ff0b30-443b-4314-e684-3a3071504ff4"
      },
      "execution_count": 31,
      "outputs": [
        {
          "output_type": "display_data",
          "data": {
            "text/plain": [
              "<Figure size 1200x400 with 1 Axes>"
            ],
            "image/png": "[encoded data removed]"
          },
          "metadata": {}
        }
      ]
    },
    {
      "cell_type": "code",
      "source": [
        "plt.figure(figsize = (12,4))\n",
        "plt.plot(df_20['year'], df_20['unemployment_rate'])\n",
        "plt.title(\"Unemployement Rate Over Time\")\n",
        "plt.xticks(df_20['year'].unique(), rotation=45, ha=\"right\")\n",
        "plt.show()"
      ],
      "metadata": {
        "colab": {
          "base_uri": "https://localhost:8080/",
          "height": 411
        },
        "id": "IqbvwAFXfhAv",
        "outputId": "d9a6262c-2ddf-4198-adbb-1040104bd661"
      },
      "execution_count": 32,
      "outputs": [
        {
          "output_type": "display_data",
          "data": {
            "text/plain": [
              "<Figure size 1200x400 with 1 Axes>"
            ],
            "image/png": "[encoded data removed]"
          },
          "metadata": {}
        }
      ]
    },
    {
      "cell_type": "code",
      "source": [
        "plt.figure(figsize = (12,4))\n",
        "plt.plot(df_20['year'], df_20['interest_rates'])\n",
        "plt.title(\"Intrest Rates Over Time\")\n",
        "plt.xticks(df_20['year'].unique(), rotation=45, ha=\"right\")\n",
        "plt.show()"
      ],
      "metadata": {
        "colab": {
          "base_uri": "https://localhost:8080/",
          "height": 411
        },
        "id": "JAVlB7Jon2cM",
        "outputId": "3d6860f4-8226-4054-8367-945c2354f053"
      },
      "execution_count": 33,
      "outputs": [
        {
          "output_type": "display_data",
          "data": {
            "text/plain": [
              "<Figure size 1200x400 with 1 Axes>"
            ],
            "image/png": "[encoded data removed]"
          },
          "metadata": {}
        }
      ]
    },
    {
      "cell_type": "code",
      "source": [
        "plt.figure(figsize = (12,4))\n",
        "plt.plot(df_20['year'], df_20['income'])\n",
        "plt.title(\"Income Over Time\")\n",
        "plt.xticks(df_20['year'].unique(), rotation=45, ha=\"right\")\n",
        "plt.show()"
      ],
      "metadata": {
        "colab": {
          "base_uri": "https://localhost:8080/",
          "height": 411
        },
        "id": "RJz1VZIjn5Rf",
        "outputId": "31cdebfe-84e6-4ab0-c303-24a174953530"
      },
      "execution_count": 34,
      "outputs": [
        {
          "output_type": "display_data",
          "data": {
            "text/plain": [
              "<Figure size 1200x400 with 1 Axes>"
            ],
            "image/png": "[encoded data removed]"
          },
          "metadata": {}
        }
      ]
    },
    {
      "cell_type": "code",
      "source": [
        "plt.figure(figsize = (12,4))\n",
        "plt.plot(df_20['year'], df_20['per_capita_gdp'])\n",
        "plt.title(\"Per Capita GDP Over Time\")\n",
        "plt.xticks(df_20['year'].unique(), rotation=45, ha=\"right\")\n",
        "plt.show()"
      ],
      "metadata": {
        "colab": {
          "base_uri": "https://localhost:8080/",
          "height": 411
        },
        "id": "3_VWSB8un9Fn",
        "outputId": "4fae26c1-92f1-418d-afba-f72d687da137"
      },
      "execution_count": 35,
      "outputs": [
        {
          "output_type": "display_data",
          "data": {
            "text/plain": [
              "<Figure size 1200x400 with 1 Axes>"
            ],
            "image/png": "[encoded data removed]"
          },
          "metadata": {}
        }
      ]
    },
    {
      "cell_type": "code",
      "source": [
        "plt.figure(figsize = (12,4))\n",
        "plt.plot(df_20['year'], df_20['urban_population'])\n",
        "plt.title(\"Urban Population Over Time\")\n",
        "plt.xticks(df_20['year'].unique(), rotation=45, ha=\"right\")\n",
        "plt.show()"
      ],
      "metadata": {
        "colab": {
          "base_uri": "https://localhost:8080/",
          "height": 411
        },
        "id": "mEh-7-5Jn_IA",
        "outputId": "ffcc9700-579b-40d1-e5f8-a16000282fff"
      },
      "execution_count": 36,
      "outputs": [
        {
          "output_type": "display_data",
          "data": {
            "text/plain": [
              "<Figure size 1200x400 with 1 Axes>"
            ],
            "image/png": "[encoded data removed]"
          },
          "metadata": {}
        }
      ]
    },
    {
      "cell_type": "code",
      "source": [
        "plt.figure(figsize = (12,4))\n",
        "plt.plot(df_20['year'], df_20['home_price_index'])\n",
        "plt.title(\"Home Price Index Over Time\")\n",
        "plt.xticks(df_20['year'].unique(), rotation=45, ha=\"right\")\n",
        "plt.show()"
      ],
      "metadata": {
        "colab": {
          "base_uri": "https://localhost:8080/",
          "height": 411
        },
        "id": "_8hhFfRFoBsB",
        "outputId": "b5dfdb66-e7a8-4dee-8628-b5e07bd5d7e2"
      },
      "execution_count": 37,
      "outputs": [
        {
          "output_type": "display_data",
          "data": {
            "text/plain": [
              "<Figure size 1200x400 with 1 Axes>"
            ],
            "image/png": "[encoded data removed]"
          },
          "metadata": {}
        }
      ]
    },
    {
      "cell_type": "code",
      "source": [
        "fig = plt.figure(figsize = (60,60))\n",
        "gs = fig.add_gridspec(15,15)\n",
        "\n",
        "gs.update(wspace = 0.25,hspace = 0.25)\n",
        "\n",
        "ax0 = fig.add_subplot(gs[0,0],)\n",
        "ax1 = fig.add_subplot(gs[0,1])\n",
        "ax2 = fig.add_subplot(gs[0,2])\n",
        "ax3 = fig.add_subplot(gs[1,0])\n",
        "ax4 = fig.add_subplot(gs[1,1])\n",
        "ax5 = fig.add_subplot(gs[1,2])\n",
        "\n",
        "Axis = [ax0,ax1,ax2,ax3,ax4,ax5]\n",
        "\n",
        "for ax,col in zip(Axis,cols):\n",
        "    sns.scatterplot(df_20, ax=ax ,x = col, y = 'home_price_index')\n",
        "plt.show()"
      ],
      "metadata": {
        "colab": {
          "base_uri": "https://localhost:8080/",
          "height": 642
        },
        "id": "sciaNJfJpIWg",
        "outputId": "4ca1bff4-6e79-4c3d-eca2-784b6f852ff8"
      },
      "execution_count": 38,
      "outputs": [
        {
          "output_type": "display_data",
          "data": {
            "text/plain": [
              "<Figure size 6000x6000 with 6 Axes>"
            ],
            "image/png": "[encoded data removed]"
          },
          "metadata": {}
        }
      ]
    },
    {
      "cell_type": "markdown",
      "source": [
        "**\"Scatter Plots of Factors vs. Home Price Index\"**"
      ],
      "metadata": {
        "id": "MxhweSeN6wby"
      }
    },
    {
      "cell_type": "code",
      "source": [
        "fig = plt.figure(figsize = (60,60))\n",
        "\n",
        "gs = fig.add_gridspec(15,15)\n",
        "\n",
        "gs.update(wspace = 0.50,hspace = 0.50)\n",
        "\n",
        "ax0 = fig.add_subplot(gs[0,0],)\n",
        "ax1 = fig.add_subplot(gs[0,1])\n",
        "ax2 = fig.add_subplot(gs[0,2])\n",
        "ax3 = fig.add_subplot(gs[1,0])\n",
        "ax4 = fig.add_subplot(gs[1,1])\n",
        "ax5 = fig.add_subplot(gs[1,2])\n",
        "\n",
        "Axis = [ax0,ax1,ax2,ax3,ax4,ax5]\n",
        "\n",
        "for ax,col in zip(Axis,cols):\n",
        "    sns.kdeplot(df_20, ax=ax ,x = col)\n",
        "plt.show()"
      ],
      "metadata": {
        "colab": {
          "base_uri": "https://localhost:8080/",
          "height": 608
        },
        "id": "ouAZ3wPQeJb8",
        "outputId": "617cf6e3-ad1c-4520-eef4-adb3e68441b5"
      },
      "execution_count": 39,
      "outputs": [
        {
          "output_type": "display_data",
          "data": {
            "text/plain": [
              "<Figure size 6000x6000 with 6 Axes>"
            ],
            "image/png": "[encoded data removed]"
          },
          "metadata": {}
        }
      ]
    },
    {
      "cell_type": "markdown",
      "source": [
        "The variables new_constructed_units and urban_population exhibit Normal distributions, while the remaining variables show slight right-skewness. This mild skewness, although present, is deemed acceptable for model building, and we will proceed with our analysis considering these distribution characteristics as Normal."
      ],
      "metadata": {
        "id": "Hl6dZBi9zc6W"
      }
    },
    {
      "cell_type": "code",
      "source": [
        "df.corr()"
      ],
      "metadata": {
        "colab": {
          "base_uri": "https://localhost:8080/",
          "height": 324
        },
        "id": "Uk9ONlxIHmSd",
        "outputId": "190e23c2-62cd-4147-b3dc-1ddbe9c776ab"
      },
      "execution_count": 64,
      "outputs": [
        {
          "output_type": "stream",
          "name": "stderr",
          "text": [
            "<ipython-input-64-2f6f6606aa2c>:1: FutureWarning: The default value of numeric_only in DataFrame.corr is deprecated. In a future version, it will default to False. Select only valid columns or specify the value of numeric_only to silence this warning.\n",
            "  df.corr()\n"
          ]
        },
        {
          "output_type": "execute_result",
          "data": {
            "text/plain": [
              "                       new_constructed_units  unemployment_rate  \\\n",
              "new_constructed_units               1.000000          -0.390979   \n",
              "unemployment_rate                  -0.390979           1.000000   \n",
              "interest_rates                      0.418073           0.066943   \n",
              "income                             -0.411212          -0.046088   \n",
              "home_price_index                   -0.062159          -0.231612   \n",
              "per_capita_gdp                     -0.376994           0.103897   \n",
              "urban_population                   -0.418469          -0.068268   \n",
              "\n",
              "                       interest_rates    income  home_price_index  \\\n",
              "new_constructed_units        0.418073 -0.411212         -0.062159   \n",
              "unemployment_rate            0.066943 -0.046088         -0.231612   \n",
              "interest_rates               1.000000 -0.541979         -0.542286   \n",
              "income                      -0.541979  1.000000          0.935364   \n",
              "home_price_index            -0.542286  0.935364          1.000000   \n",
              "per_capita_gdp              -0.374240  0.987732          0.943785   \n",
              "urban_population            -0.552013  0.986303          0.889301   \n",
              "\n",
              "                       per_capita_gdp  urban_population  \n",
              "new_constructed_units       -0.376994         -0.418469  \n",
              "unemployment_rate            0.103897         -0.068268  \n",
              "interest_rates              -0.374240         -0.552013  \n",
              "income                       0.987732          0.986303  \n",
              "home_price_index             0.943785          0.889301  \n",
              "per_capita_gdp               1.000000          0.990761  \n",
              "urban_population             0.990761          1.000000  "
            ],
            "text/html": [
              "\n",
              "  <div id=\"df-eafde5d9-6331-4b53-a254-6d7f51a76aa4\" class=\"colab-df-container\">\n",
              "    <div>\n",
              "<style scoped>\n",
              "    .dataframe tbody tr th:only-of-type {\n",
              "        vertical-align: middle;\n",
              "    }\n",
              "\n",
              "    .dataframe tbody tr th {\n",
              "        vertical-align: top;\n",
              "    }\n",
              "\n",
              "    .dataframe thead th {\n",
              "        text-align: right;\n",
              "    }\n",
              "</style>\n",
              "<table border=\"1\" class=\"dataframe\">\n",
              "  <thead>\n",
              "    <tr style=\"text-align: right;\">\n",
              "      <th></th>\n",
              "      <th>new_constructed_units</th>\n",
              "      <th>unemployment_rate</th>\n",
              "      <th>interest_rates</th>\n",
              "      <th>income</th>\n",
              "      <th>home_price_index</th>\n",
              "      <th>per_capita_gdp</th>\n",
              "      <th>urban_population</th>\n",
              "    </tr>\n",
              "  </thead>\n",
              "  <tbody>\n",
              "    <tr>\n",
              "      <th>new_constructed_units</th>\n",
              "      <td>1.000000</td>\n",
              "      <td>-0.390979</td>\n",
              "      <td>0.418073</td>\n",
              "      <td>-0.411212</td>\n",
              "      <td>-0.062159</td>\n",
              "      <td>-0.376994</td>\n",
              "      <td>-0.418469</td>\n",
              "    </tr>\n",
              "    <tr>\n",
              "      <th>unemployment_rate</th>\n",
              "      <td>-0.390979</td>\n",
              "      <td>1.000000</td>\n",
              "      <td>0.066943</td>\n",
              "      <td>-0.046088</td>\n",
              "      <td>-0.231612</td>\n",
              "      <td>0.103897</td>\n",
              "      <td>-0.068268</td>\n",
              "    </tr>\n",
              "    <tr>\n",
              "      <th>interest_rates</th>\n",
              "      <td>0.418073</td>\n",
              "      <td>0.066943</td>\n",
              "      <td>1.000000</td>\n",
              "      <td>-0.541979</td>\n",
              "      <td>-0.542286</td>\n",
              "      <td>-0.374240</td>\n",
              "      <td>-0.552013</td>\n",
              "    </tr>\n",
              "    <tr>\n",
              "      <th>income</th>\n",
              "      <td>-0.411212</td>\n",
              "      <td>-0.046088</td>\n",
              "      <td>-0.541979</td>\n",
              "      <td>1.000000</td>\n",
              "      <td>0.935364</td>\n",
              "      <td>0.987732</td>\n",
              "      <td>0.986303</td>\n",
              "    </tr>\n",
              "    <tr>\n",
              "      <th>home_price_index</th>\n",
              "      <td>-0.062159</td>\n",
              "      <td>-0.231612</td>\n",
              "      <td>-0.542286</td>\n",
              "      <td>0.935364</td>\n",
              "      <td>1.000000</td>\n",
              "      <td>0.943785</td>\n",
              "      <td>0.889301</td>\n",
              "    </tr>\n",
              "    <tr>\n",
              "      <th>per_capita_gdp</th>\n",
              "      <td>-0.376994</td>\n",
              "      <td>0.103897</td>\n",
              "      <td>-0.374240</td>\n",
              "      <td>0.987732</td>\n",
              "      <td>0.943785</td>\n",
              "      <td>1.000000</td>\n",
              "      <td>0.990761</td>\n",
              "    </tr>\n",
              "    <tr>\n",
              "      <th>urban_population</th>\n",
              "      <td>-0.418469</td>\n",
              "      <td>-0.068268</td>\n",
              "      <td>-0.552013</td>\n",
              "      <td>0.986303</td>\n",
              "      <td>0.889301</td>\n",
              "      <td>0.990761</td>\n",
              "      <td>1.000000</td>\n",
              "    </tr>\n",
              "  </tbody>\n",
              "</table>\n",
              "</div>\n",
              "    <div class=\"colab-df-buttons\">\n",
              "\n",
              "  <div class=\"colab-df-container\">\n",
              "    <button class=\"colab-df-convert\" onclick=\"convertToInteractive('df-eafde5d9-6331-4b53-a254-6d7f51a76aa4')\"\n",
              "            title=\"Convert this dataframe to an interactive table.\"\n",
              "            style=\"display:none;\">\n",
              "\n",
              "  <svg xmlns=\"http://www.w3.org/2000/svg\" height=\"24px\" viewBox=\"0 -960 960 960\">\n",
              "    <path d=\"M120-120v-720h720v720H120Zm60-500h600v-160H180v160Zm220 220h160v-160H400v160Zm0 220h160v-160H400v160ZM180-400h160v-160H180v160Zm440 0h160v-160H620v160ZM180-180h160v-160H180v160Zm440 0h160v-160H620v160Z\"/>\n",
              "  </svg>\n",
              "    </button>\n",
              "\n",
              "  <style>\n",
              "    .colab-df-container {\n",
              "      display:flex;\n",
              "      gap: 12px;\n",
              "    }\n",
              "\n",
              "    .colab-df-convert {\n",
              "      background-color: #E8F0FE;\n",
              "      border: none;\n",
              "      border-radius: 50%;\n",
              "      cursor: pointer;\n",
              "      display: none;\n",
              "      fill: #1967D2;\n",
              "      height: 32px;\n",
              "      padding: 0 0 0 0;\n",
              "      width: 32px;\n",
              "    }\n",
              "\n",
              "    .colab-df-convert:hover {\n",
              "      background-color: #E2EBFA;\n",
              "      box-shadow: 0px 1px 2px rgba(60, 64, 67, 0.3), 0px 1px 3px 1px rgba(60, 64, 67, 0.15);\n",
              "      fill: #174EA6;\n",
              "    }\n",
              "\n",
              "    .colab-df-buttons div {\n",
              "      margin-bottom: 4px;\n",
              "    }\n",
              "\n",
              "    [theme=dark] .colab-df-convert {\n",
              "      background-color: #3B4455;\n",
              "      fill: #D2E3FC;\n",
              "    }\n",
              "\n",
              "    [theme=dark] .colab-df-convert:hover {\n",
              "      background-color: #434B5C;\n",
              "      box-shadow: 0px 1px 3px 1px rgba(0, 0, 0, 0.15);\n",
              "      filter: drop-shadow(0px 1px 2px rgba(0, 0, 0, 0.3));\n",
              "      fill: #FFFFFF;\n",
              "    }\n",
              "  </style>\n",
              "\n",
              "    <script>\n",
              "      const buttonEl =\n",
              "        document.querySelector('#df-eafde5d9-6331-4b53-a254-6d7f51a76aa4 button.colab-df-convert');\n",
              "      buttonEl.style.display =\n",
              "        google.colab.kernel.accessAllowed ? 'block' : 'none';\n",
              "\n",
              "      async function convertToInteractive(key) {\n",
              "        const element = document.querySelector('#df-eafde5d9-6331-4b53-a254-6d7f51a76aa4');\n",
              "        const dataTable =\n",
              "          await google.colab.kernel.invokeFunction('convertToInteractive',\n",
              "                                                    [key], {});\n",
              "        if (!dataTable) return;\n",
              "\n",
              "        const docLinkHtml = 'Like what you see? Visit the ' +\n",
              "          '<a target=\"_blank\" href=https://colab.research.google.com/notebooks/data_table.ipynb>data table notebook</a>'\n",
              "          + ' to learn more about interactive tables.';\n",
              "        element.innerHTML = '';\n",
              "        dataTable['output_type'] = 'display_data';\n",
              "        await google.colab.output.renderOutput(dataTable, element);\n",
              "        const docLink = document.createElement('div');\n",
              "        docLink.innerHTML = docLinkHtml;\n",
              "        element.appendChild(docLink);\n",
              "      }\n",
              "    </script>\n",
              "  </div>\n",
              "\n",
              "\n",
              "<div id=\"df-5b46ecb9-0c82-4909-b739-72e0f28ad4de\">\n",
              "  <button class=\"colab-df-quickchart\" onclick=\"quickchart('df-5b46ecb9-0c82-4909-b739-72e0f28ad4de')\"\n",
              "            title=\"Suggest charts\"\n",
              "            style=\"display:none;\">\n",
              "\n",
              "<svg xmlns=\"http://www.w3.org/2000/svg\" height=\"24px\"viewBox=\"0 0 24 24\"\n",
              "     width=\"24px\">\n",
              "    <g>\n",
              "        <path d=\"M19 3H5c-1.1 0-2 .9-2 2v14c0 1.1.9 2 2 2h14c1.1 0 2-.9 2-2V5c0-1.1-.9-2-2-2zM9 17H7v-7h2v7zm4 0h-2V7h2v10zm4 0h-2v-4h2v4z\"/>\n",
              "    </g>\n",
              "</svg>\n",
              "  </button>\n",
              "\n",
              "<style>\n",
              "  .colab-df-quickchart {\n",
              "      --bg-color: #E8F0FE;\n",
              "      --fill-color: #1967D2;\n",
              "      --hover-bg-color: #E2EBFA;\n",
              "      --hover-fill-color: #174EA6;\n",
              "      --disabled-fill-color: #AAA;\n",
              "      --disabled-bg-color: #DDD;\n",
              "  }\n",
              "\n",
              "  [theme=dark] .colab-df-quickchart {\n",
              "      --bg-color: #3B4455;\n",
              "      --fill-color: #D2E3FC;\n",
              "      --hover-bg-color: #434B5C;\n",
              "      --hover-fill-color: #FFFFFF;\n",
              "      --disabled-bg-color: #3B4455;\n",
              "      --disabled-fill-color: #666;\n",
              "  }\n",
              "\n",
              "  .colab-df-quickchart {\n",
              "    background-color: var(--bg-color);\n",
              "    border: none;\n",
              "    border-radius: 50%;\n",
              "    cursor: pointer;\n",
              "    display: none;\n",
              "    fill: var(--fill-color);\n",
              "    height: 32px;\n",
              "    padding: 0;\n",
              "    width: 32px;\n",
              "  }\n",
              "\n",
              "  .colab-df-quickchart:hover {\n",
              "    background-color: var(--hover-bg-color);\n",
              "    box-shadow: 0 1px 2px rgba(60, 64, 67, 0.3), 0 1px 3px 1px rgba(60, 64, 67, 0.15);\n",
              "    fill: var(--button-hover-fill-color);\n",
              "  }\n",
              "\n",
              "  .colab-df-quickchart-complete:disabled,\n",
              "  .colab-df-quickchart-complete:disabled:hover {\n",
              "    background-color: var(--disabled-bg-color);\n",
              "    fill: var(--disabled-fill-color);\n",
              "    box-shadow: none;\n",
              "  }\n",
              "\n",
              "  .colab-df-spinner {\n",
              "    border: 2px solid var(--fill-color);\n",
              "    border-color: transparent;\n",
              "    border-bottom-color: var(--fill-color);\n",
              "    animation:\n",
              "      spin 1s steps(1) infinite;\n",
              "  }\n",
              "\n",
              "  @keyframes spin {\n",
              "    0% {\n",
              "      border-color: transparent;\n",
              "      border-bottom-color: var(--fill-color);\n",
              "      border-left-color: var(--fill-color);\n",
              "    }\n",
              "    20% {\n",
              "      border-color: transparent;\n",
              "      border-left-color: var(--fill-color);\n",
              "      border-top-color: var(--fill-color);\n",
              "    }\n",
              "    30% {\n",
              "      border-color: transparent;\n",
              "      border-left-color: var(--fill-color);\n",
              "      border-top-color: var(--fill-color);\n",
              "      border-right-color: var(--fill-color);\n",
              "    }\n",
              "    40% {\n",
              "      border-color: transparent;\n",
              "      border-right-color: var(--fill-color);\n",
              "      border-top-color: var(--fill-color);\n",
              "    }\n",
              "    60% {\n",
              "      border-color: transparent;\n",
              "      border-right-color: var(--fill-color);\n",
              "    }\n",
              "    80% {\n",
              "      border-color: transparent;\n",
              "      border-right-color: var(--fill-color);\n",
              "      border-bottom-color: var(--fill-color);\n",
              "    }\n",
              "    90% {\n",
              "      border-color: transparent;\n",
              "      border-bottom-color: var(--fill-color);\n",
              "    }\n",
              "  }\n",
              "</style>\n",
              "\n",
              "  <script>\n",
              "    async function quickchart(key) {\n",
              "      const quickchartButtonEl =\n",
              "        document.querySelector('#' + key + ' button');\n",
              "      quickchartButtonEl.disabled = true;  // To prevent multiple clicks.\n",
              "      quickchartButtonEl.classList.add('colab-df-spinner');\n",
              "      try {\n",
              "        const charts = await google.colab.kernel.invokeFunction(\n",
              "            'suggestCharts', [key], {});\n",
              "      } catch (error) {\n",
              "        console.error('Error during call to suggestCharts:', error);\n",
              "      }\n",
              "      quickchartButtonEl.classList.remove('colab-df-spinner');\n",
              "      quickchartButtonEl.classList.add('colab-df-quickchart-complete');\n",
              "    }\n",
              "    (() => {\n",
              "      let quickchartButtonEl =\n",
              "        document.querySelector('#df-5b46ecb9-0c82-4909-b739-72e0f28ad4de button');\n",
              "      quickchartButtonEl.style.display =\n",
              "        google.colab.kernel.accessAllowed ? 'block' : 'none';\n",
              "    })();\n",
              "  </script>\n",
              "</div>\n",
              "    </div>\n",
              "  </div>\n"
            ]
          },
          "metadata": {},
          "execution_count": 64
        }
      ]
    },
    {
      "cell_type": "code",
      "source": [
        "sns.heatmap(df_20.corr(),vmax = 1, vmin = -1 , annot = True , cmap = \"RdYlGn\")\n",
        "plt.title(\"Correlation Heatmap\")\n",
        "plt.show()"
      ],
      "metadata": {
        "colab": {
          "base_uri": "https://localhost:8080/",
          "height": 652
        },
        "id": "OfsKrJRnGa3h",
        "outputId": "f320313f-e0c9-41ed-dc9b-92b7f5121a9c"
      },
      "execution_count": 40,
      "outputs": [
        {
          "output_type": "stream",
          "name": "stderr",
          "text": [
            "<ipython-input-40-748b961f0c4e>:1: FutureWarning: The default value of numeric_only in DataFrame.corr is deprecated. In a future version, it will default to False. Select only valid columns or specify the value of numeric_only to silence this warning.\n",
            "  sns.heatmap(df_20.corr(),vmax = 1, vmin = -1 , annot = True , cmap = \"RdYlGn\")\n"
          ]
        },
        {
          "output_type": "display_data",
          "data": {
            "text/plain": [
              "<Figure size 640x480 with 2 Axes>"
            ],
            "image/png": "[encoded data removed]"
          },
          "metadata": {}
        }
      ]
    },
    {
      "cell_type": "markdown",
      "source": [
        "The above Heatmap indicates that few of these variables provide similar information, and their high correlation might lead to multicollinearity issues in regression analysis."
      ],
      "metadata": {
        "id": "WpHVwQTkJjbS"
      }
    },
    {
      "cell_type": "markdown",
      "source": [
        "# **Standardization**"
      ],
      "metadata": {
        "id": "JkZt5t-oZ5Hk"
      }
    },
    {
      "cell_type": "markdown",
      "source": [
        "Standardization is performed on the dataset to bring all features to a common scale. This is crucial when working with machine learning models that are sensitive to the magnitude of input variables."
      ],
      "metadata": {
        "id": "DTPFbJdqaJO3"
      }
    },
    {
      "cell_type": "code",
      "source": [
        "from sklearn.model_selection import train_test_split\n",
        "from sklearn.preprocessing import StandardScaler\n",
        "scaler = StandardScaler()"
      ],
      "metadata": {
        "id": "-EplAI-EzaNh"
      },
      "execution_count": 41,
      "outputs": []
    },
    {
      "cell_type": "code",
      "source": [
        "X = df_20.drop(columns = ['home_price_index','date','year'])\n",
        "y = df_20[\"home_price_index\"]"
      ],
      "metadata": {
        "id": "xgbVbcGuQJSO"
      },
      "execution_count": 42,
      "outputs": []
    },
    {
      "cell_type": "code",
      "source": [
        "X_train,X_test,y_train,y_test = train_test_split(X,y,test_size= 0.33, random_state=2)"
      ],
      "metadata": {
        "id": "qjfv8D0OP_Rl"
      },
      "execution_count": 43,
      "outputs": []
    },
    {
      "cell_type": "code",
      "source": [
        "X_train_scaled = scaler.fit_transform(X_train)\n",
        "X_test_scaled = scaler.transform(X_test)"
      ],
      "metadata": {
        "id": "1yGGa6wgQBQO"
      },
      "execution_count": 44,
      "outputs": []
    },
    {
      "cell_type": "markdown",
      "source": [
        "# **MODEL BUILDING**"
      ],
      "metadata": {
        "id": "F4fYetJ2SOIu"
      }
    },
    {
      "cell_type": "markdown",
      "source": [
        "# **Linear Regression**"
      ],
      "metadata": {
        "id": "giarcsnxSSqq"
      }
    },
    {
      "cell_type": "code",
      "source": [
        "from sklearn.linear_model import LinearRegression\n",
        "lr = LinearRegression()"
      ],
      "metadata": {
        "id": "-Mj2_8KFQVXL"
      },
      "execution_count": 45,
      "outputs": []
    },
    {
      "cell_type": "code",
      "source": [
        "lr.fit(X_train_scaled,y_train)\n",
        "lr_pred = lr.predict(X_test_scaled)"
      ],
      "metadata": {
        "id": "Fqd6Kch1Sbdc"
      },
      "execution_count": 46,
      "outputs": []
    },
    {
      "cell_type": "code",
      "source": [
        "r2_lr = r2_score(y_test,lr_pred)\n",
        "print(\"R squared Value\")\n",
        "print(r2_score(y_test,lr_pred))\n",
        "mse_lr = mean_squared_error(y_test,lr_pred)\n",
        "print(\"\\nMSE\")\n",
        "print(mean_squared_error(y_test,lr_pred))\n",
        "mae_lr = mean_absolute_error(y_test,lr_pred)\n",
        "print(\"\\nMAE\")\n",
        "print(mean_absolute_error(y_test,lr_pred))"
      ],
      "metadata": {
        "colab": {
          "base_uri": "https://localhost:8080/"
        },
        "id": "Ccu7KlQmSh9H",
        "outputId": "b377b71b-cd93-47cd-ec8f-59c8de73b55f"
      },
      "execution_count": 47,
      "outputs": [
        {
          "output_type": "stream",
          "name": "stdout",
          "text": [
            "R squared Value\n",
            "0.9527354255690559\n",
            "\n",
            "MSE\n",
            "119.27608462812941\n",
            "\n",
            "MAE\n",
            "7.788883975430829\n"
          ]
        }
      ]
    },
    {
      "cell_type": "markdown",
      "source": [
        "**R2 Score for LR model indicates 95.27% of the variability in the dependent variable is explained by the model.**"
      ],
      "metadata": {
        "id": "uOXaUWvZY4g6"
      }
    },
    {
      "cell_type": "markdown",
      "source": [
        "# **Random forest Model**"
      ],
      "metadata": {
        "id": "QOUMvy1KTj_W"
      }
    },
    {
      "cell_type": "code",
      "source": [
        "from sklearn.ensemble import RandomForestRegressor\n",
        "rr = RandomForestRegressor()"
      ],
      "metadata": {
        "id": "BqkHZui3SxSn"
      },
      "execution_count": 48,
      "outputs": []
    },
    {
      "cell_type": "code",
      "source": [
        "rr.fit(X_train_scaled,y_train)\n",
        "rr_pred = rr.predict(X_test_scaled)"
      ],
      "metadata": {
        "id": "v7vMTAKFTpLR"
      },
      "execution_count": 49,
      "outputs": []
    },
    {
      "cell_type": "code",
      "source": [
        "r2_rr = r2_score(y_test,rr_pred)\n",
        "print(\"R squared Value\")\n",
        "print( r2_score(y_test,rr_pred))\n",
        "mse_rr = mean_squared_error(y_test,rr_pred)\n",
        "print(\"\\nMSE\")\n",
        "print( mean_squared_error(y_test,rr_pred))\n",
        "mae_rr =  mean_absolute_error(y_test,rr_pred)\n",
        "print(\"\\nMAE\")\n",
        "print( mean_absolute_error(y_test,rr_pred))"
      ],
      "metadata": {
        "colab": {
          "base_uri": "https://localhost:8080/"
        },
        "id": "BXYImxEcTsK6",
        "outputId": "f7c924d2-b5d0-4920-fae9-7b5379e9dea5"
      },
      "execution_count": 50,
      "outputs": [
        {
          "output_type": "stream",
          "name": "stdout",
          "text": [
            "R squared Value\n",
            "0.9962608494326256\n",
            "\n",
            "MSE\n",
            "9.43605744643026\n",
            "\n",
            "MAE\n",
            "2.0383102409638623\n"
          ]
        }
      ]
    },
    {
      "cell_type": "markdown",
      "source": [
        "**R2 Score for RR model indicates 99.65% of the variability in the dependent variable is explained by the model.**"
      ],
      "metadata": {
        "id": "iRq4eUFDZCsA"
      }
    },
    {
      "cell_type": "markdown",
      "source": [
        "# **ADA BOOST**"
      ],
      "metadata": {
        "id": "sjim6QvQUE_Q"
      }
    },
    {
      "cell_type": "code",
      "source": [
        "from sklearn.ensemble import AdaBoostRegressor\n",
        "ada = AdaBoostRegressor()"
      ],
      "metadata": {
        "id": "DoBbUMQ8T--a"
      },
      "execution_count": 51,
      "outputs": []
    },
    {
      "cell_type": "code",
      "source": [
        "ada.fit(X_train_scaled,y_train)\n",
        "ada_pred = ada.predict(X_test_scaled)"
      ],
      "metadata": {
        "id": "cQviMksVUI6C"
      },
      "execution_count": 52,
      "outputs": []
    },
    {
      "cell_type": "code",
      "source": [
        "r2_ab = r2_score(y_test,ada_pred )\n",
        "print(\"R squared Value\")\n",
        "print( r2_score(y_test,ada_pred ))\n",
        "mse_ab = mean_squared_error(y_test,ada_pred )\n",
        "print(\"\\nMSE\")\n",
        "print( mean_squared_error(y_test,ada_pred ))\n",
        "mae_ab =  mean_absolute_error(y_test,ada_pred )\n",
        "print(\"\\nMAE\")\n",
        "print( mean_absolute_error(y_test,ada_pred ))"
      ],
      "metadata": {
        "colab": {
          "base_uri": "https://localhost:8080/"
        },
        "id": "NpuSBNqzUP60",
        "outputId": "b41437c6-b849-4d0e-d685-af0e6df4909f"
      },
      "execution_count": 53,
      "outputs": [
        {
          "output_type": "stream",
          "name": "stdout",
          "text": [
            "R squared Value\n",
            "0.9900592689000133\n",
            "\n",
            "MSE\n",
            "25.086261713407538\n",
            "\n",
            "MAE\n",
            "3.834583774110322\n"
          ]
        }
      ]
    },
    {
      "cell_type": "markdown",
      "source": [
        "**R2 Score for ADA Boosting model indicates 98.84% of the variability in the dependent variable is explained by the model.**"
      ],
      "metadata": {
        "id": "EvvnFrqmZKm5"
      }
    },
    {
      "cell_type": "markdown",
      "source": [
        "# **Gradient Boosting**"
      ],
      "metadata": {
        "id": "E73twvFzUgN9"
      }
    },
    {
      "cell_type": "code",
      "source": [
        "from sklearn.ensemble import GradientBoostingRegressor\n",
        "gb = GradientBoostingRegressor()"
      ],
      "metadata": {
        "id": "tquvkLjhUcYg"
      },
      "execution_count": 54,
      "outputs": []
    },
    {
      "cell_type": "code",
      "source": [
        "gb.fit(X_train_scaled, y_train)\n",
        "gb_pred = gb.predict(X_test_scaled)"
      ],
      "metadata": {
        "id": "OUqihbn3UkHM"
      },
      "execution_count": 55,
      "outputs": []
    },
    {
      "cell_type": "code",
      "source": [
        "r2_gb = r2_score(y_test,gb_pred )\n",
        "print(\"R squared Value\")\n",
        "print( r2_score(y_test,gb_pred ))\n",
        "mse_gb = mean_squared_error(y_test,gb_pred )\n",
        "print(\"\\nMSE\")\n",
        "print( mean_squared_error(y_test,gb_pred ))\n",
        "mae_gb =  mean_absolute_error(y_test,gb_pred )\n",
        "print(\"\\nMAE\")\n",
        "print( mean_absolute_error(y_test,gb_pred ))"
      ],
      "metadata": {
        "colab": {
          "base_uri": "https://localhost:8080/"
        },
        "id": "OhxCX6E_UmLQ",
        "outputId": "595102fd-7d47-4b52-ce9b-11e8f85d46b3"
      },
      "execution_count": 56,
      "outputs": [
        {
          "output_type": "stream",
          "name": "stdout",
          "text": [
            "R squared Value\n",
            "0.9947513910680241\n",
            "\n",
            "MSE\n",
            "13.245301172974209\n",
            "\n",
            "MAE\n",
            "2.6471187223910935\n"
          ]
        }
      ]
    },
    {
      "cell_type": "markdown",
      "source": [
        "**R2 Score for Gradient Boosting model indicates 99.48% of the variability in the dependent variable is explained by the model.**"
      ],
      "metadata": {
        "id": "q9_Y2WKTZTXh"
      }
    },
    {
      "cell_type": "markdown",
      "source": [
        "# **XG Boosting Model**"
      ],
      "metadata": {
        "id": "oW-yf2JEUwia"
      }
    },
    {
      "cell_type": "code",
      "source": [
        "from xgboost import XGBRegressor\n",
        "xg = XGBRegressor()"
      ],
      "metadata": {
        "id": "UDiXACBiUrw6"
      },
      "execution_count": 57,
      "outputs": []
    },
    {
      "cell_type": "code",
      "source": [
        "xg.fit(X_train_scaled, y_train)\n",
        "xg_pred = xg.predict(X_test_scaled)"
      ],
      "metadata": {
        "id": "Ttm_P-tgU1Py"
      },
      "execution_count": 58,
      "outputs": []
    },
    {
      "cell_type": "code",
      "source": [
        "r2_xg = r2_score(y_test,xg_pred )\n",
        "print(\"R squared Value\")\n",
        "print( r2_score(y_test,xg_pred ))\n",
        "mse_xg = mean_squared_error(y_test,xg_pred )\n",
        "print(\"\\nMSE\")\n",
        "print( mean_squared_error(y_test,xg_pred ))\n",
        "mae_xg =  mean_absolute_error(y_test,xg_pred )\n",
        "print(\"\\nMAE\")\n",
        "print( mean_absolute_error(y_test,xg_pred ))"
      ],
      "metadata": {
        "colab": {
          "base_uri": "https://localhost:8080/"
        },
        "id": "8HaUOcghU3PQ",
        "outputId": "bf9c6bdd-7f5a-417b-e392-b0ecca7c5985"
      },
      "execution_count": 59,
      "outputs": [
        {
          "output_type": "stream",
          "name": "stdout",
          "text": [
            "R squared Value\n",
            "0.9953096425659546\n",
            "\n",
            "MSE\n",
            "11.836507087496674\n",
            "\n",
            "MAE\n",
            "2.3933190462043488\n"
          ]
        }
      ]
    },
    {
      "cell_type": "markdown",
      "source": [
        "**R2 Score for ADA Boosting model indicates 99.53% of the variability in the dependent variable is explained by the model.**"
      ],
      "metadata": {
        "id": "ZovDXYQMZZqL"
      }
    },
    {
      "cell_type": "markdown",
      "source": [
        "# **Observation**"
      ],
      "metadata": {
        "id": "qhWDPH3UWuYO"
      }
    },
    {
      "cell_type": "markdown",
      "source": [
        "Random Forest and XGBoosting consistently outperform other models, demonstrating their effectiveness in capturing the underlying patterns in the data. Below is the graph that shoes the actual and the predicted value for the Ada Boost Algorithmn."
      ],
      "metadata": {
        "id": "IeQd7kljXb8j"
      }
    },
    {
      "cell_type": "code",
      "source": [
        "fit_data = ada.fit(X_train_scaled,y_train)\n",
        "prediction = fit_data.predict(X_test_scaled)\n",
        "\n",
        "plt.figure(figsize=(10,10))\n",
        "plt.scatter(y_test, prediction, c ='#d62728')\n",
        "plt.yscale('log')\n",
        "plt.xscale('log')\n",
        "\n",
        "p1 = max(max(prediction), max(y_test))\n",
        "p2 = min(min(prediction), min(y_test))\n",
        "plt.plot([p1, p2], [p1, p2], 'b-')\n",
        "plt.xlabel('True Values', fontsize=15)\n",
        "plt.ylabel('Predictions', fontsize=15)\n",
        "plt.title(\"Accuracy Plot\")\n",
        "plt.axis('equal')\n",
        "plt.show()"
      ],
      "metadata": {
        "colab": {
          "base_uri": "https://localhost:8080/",
          "height": 880
        },
        "id": "yOMYebdud0jx",
        "outputId": "db540d18-6283-4c0b-aedc-c4914e21e994"
      },
      "execution_count": 63,
      "outputs": [
        {
          "output_type": "display_data",
          "data": {
            "text/plain": [
              "<Figure size 1000x1000 with 1 Axes>"
            ],
            "image/png": "[encoded data removed]"
          },
          "metadata": {}
        }
      ]
    },
    {
      "cell_type": "code",
      "source": [],
      "metadata": {
        "id": "3xs2vwKzHZG7"
      },
      "execution_count": null,
      "outputs": []
    }
  ]
}